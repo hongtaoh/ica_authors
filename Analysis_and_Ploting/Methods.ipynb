{
 "cells": [
  {
   "cell_type": "code",
   "execution_count": 11,
   "id": "00c9d2fe",
   "metadata": {},
   "outputs": [],
   "source": [
    "import pandas as pd\n",
    "import numpy as np\n",
    "from collections import Counter"
   ]
  },
  {
   "cell_type": "markdown",
   "id": "d7576ae5",
   "metadata": {},
   "source": [
    "## Data collection"
   ]
  },
  {
   "cell_type": "code",
   "execution_count": 2,
   "id": "1c11f63c",
   "metadata": {},
   "outputs": [],
   "source": [
    "df = pd.read_csv('../data/interim/ica_author_data.csv')"
   ]
  },
  {
   "cell_type": "code",
   "execution_count": 6,
   "id": "d0166f17",
   "metadata": {},
   "outputs": [
    {
     "data": {
      "text/html": [
       "<div>\n",
       "<style scoped>\n",
       "    .dataframe tbody tr th:only-of-type {\n",
       "        vertical-align: middle;\n",
       "    }\n",
       "\n",
       "    .dataframe tbody tr th {\n",
       "        vertical-align: top;\n",
       "    }\n",
       "\n",
       "    .dataframe thead th {\n",
       "        text-align: right;\n",
       "    }\n",
       "</style>\n",
       "<table border=\"1\" class=\"dataframe\">\n",
       "  <thead>\n",
       "    <tr style=\"text-align: right;\">\n",
       "      <th></th>\n",
       "      <th>doi</th>\n",
       "      <th>url</th>\n",
       "      <th>year</th>\n",
       "      <th>title</th>\n",
       "      <th>journal</th>\n",
       "      <th>datePublished</th>\n",
       "      <th>authorFullName</th>\n",
       "      <th>firstName</th>\n",
       "      <th>lastName</th>\n",
       "      <th>numberOfAuthors</th>\n",
       "      <th>authorPosition</th>\n",
       "      <th>affiliation</th>\n",
       "    </tr>\n",
       "  </thead>\n",
       "  <tbody>\n",
       "    <tr>\n",
       "      <th>0</th>\n",
       "      <td>10.1093/joc/jqac004</td>\n",
       "      <td>https://academic.oup.com/joc/article/72/3/297/...</td>\n",
       "      <td>2022</td>\n",
       "      <td>The Gender Divide in Wikipedia: Quantifying an...</td>\n",
       "      <td>Journal of Communication</td>\n",
       "      <td>2022-02-16</td>\n",
       "      <td>Isabelle Langrock</td>\n",
       "      <td>Isabelle</td>\n",
       "      <td>Langrock</td>\n",
       "      <td>2.0</td>\n",
       "      <td>1.0</td>\n",
       "      <td>Annenberg School for Communication, University...</td>\n",
       "    </tr>\n",
       "    <tr>\n",
       "      <th>1</th>\n",
       "      <td>10.1093/joc/jqac004</td>\n",
       "      <td>https://academic.oup.com/joc/article/72/3/297/...</td>\n",
       "      <td>2022</td>\n",
       "      <td>The Gender Divide in Wikipedia: Quantifying an...</td>\n",
       "      <td>Journal of Communication</td>\n",
       "      <td>2022-02-16</td>\n",
       "      <td>Sandra González-Bailón</td>\n",
       "      <td>Sandra</td>\n",
       "      <td>González-Bailón</td>\n",
       "      <td>2.0</td>\n",
       "      <td>2.0</td>\n",
       "      <td>Annenberg School for Communication, University...</td>\n",
       "    </tr>\n",
       "    <tr>\n",
       "      <th>2</th>\n",
       "      <td>10.1093/joc/jqac009</td>\n",
       "      <td>https://academic.oup.com/joc/article/72/3/322/...</td>\n",
       "      <td>2022</td>\n",
       "      <td>Mapping Exposure Diversity: The Divergent Effe...</td>\n",
       "      <td>Journal of Communication</td>\n",
       "      <td>2022-03-16</td>\n",
       "      <td>Pascal Jürgens</td>\n",
       "      <td>Pascal</td>\n",
       "      <td>Jürgens</td>\n",
       "      <td>2.0</td>\n",
       "      <td>1.0</td>\n",
       "      <td>Department of Communication, Jakob-Welder-Weg ...</td>\n",
       "    </tr>\n",
       "  </tbody>\n",
       "</table>\n",
       "</div>"
      ],
      "text/plain": [
       "                   doi                                                url  \\\n",
       "0  10.1093/joc/jqac004  https://academic.oup.com/joc/article/72/3/297/...   \n",
       "1  10.1093/joc/jqac004  https://academic.oup.com/joc/article/72/3/297/...   \n",
       "2  10.1093/joc/jqac009  https://academic.oup.com/joc/article/72/3/322/...   \n",
       "\n",
       "   year                                              title  \\\n",
       "0  2022  The Gender Divide in Wikipedia: Quantifying an...   \n",
       "1  2022  The Gender Divide in Wikipedia: Quantifying an...   \n",
       "2  2022  Mapping Exposure Diversity: The Divergent Effe...   \n",
       "\n",
       "                    journal datePublished          authorFullName firstName  \\\n",
       "0  Journal of Communication    2022-02-16       Isabelle Langrock  Isabelle   \n",
       "1  Journal of Communication    2022-02-16  Sandra González-Bailón    Sandra   \n",
       "2  Journal of Communication    2022-03-16          Pascal Jürgens    Pascal   \n",
       "\n",
       "          lastName  numberOfAuthors  authorPosition  \\\n",
       "0         Langrock              2.0             1.0   \n",
       "1  González-Bailón              2.0             2.0   \n",
       "2          Jürgens              2.0             1.0   \n",
       "\n",
       "                                         affiliation  \n",
       "0  Annenberg School for Communication, University...  \n",
       "1  Annenberg School for Communication, University...  \n",
       "2  Department of Communication, Jakob-Welder-Weg ...  "
      ]
     },
     "execution_count": 6,
     "metadata": {},
     "output_type": "execute_result"
    }
   ],
   "source": [
    "df.head(3)"
   ]
  },
  {
   "cell_type": "code",
   "execution_count": 4,
   "id": "3101e06b",
   "metadata": {},
   "outputs": [
    {
     "data": {
      "text/plain": [
       "(13603, 12)"
      ]
     },
     "execution_count": 4,
     "metadata": {},
     "output_type": "execute_result"
    }
   ],
   "source": [
    "# total unmber of authors\n",
    "df.shape"
   ]
  },
  {
   "cell_type": "code",
   "execution_count": 10,
   "id": "174be798",
   "metadata": {},
   "outputs": [
    {
     "data": {
      "text/plain": [
       "7708"
      ]
     },
     "execution_count": 10,
     "metadata": {},
     "output_type": "execute_result"
    }
   ],
   "source": [
    "# total number of papers\n",
    "all_papers = list(set(df.doi))\n",
    "len(all_papers)"
   ]
  },
  {
   "cell_type": "markdown",
   "id": "2b7ad24f",
   "metadata": {},
   "source": [
    "## Research versus non research"
   ]
  },
  {
   "cell_type": "code",
   "execution_count": 12,
   "id": "531d23ff",
   "metadata": {},
   "outputs": [],
   "source": [
    "df = pd.read_csv('../data/interim/ica_paper_df.csv')"
   ]
  },
  {
   "cell_type": "code",
   "execution_count": 13,
   "id": "291b0c76",
   "metadata": {},
   "outputs": [
    {
     "data": {
      "text/html": [
       "<div>\n",
       "<style scoped>\n",
       "    .dataframe tbody tr th:only-of-type {\n",
       "        vertical-align: middle;\n",
       "    }\n",
       "\n",
       "    .dataframe tbody tr th {\n",
       "        vertical-align: top;\n",
       "    }\n",
       "\n",
       "    .dataframe thead th {\n",
       "        text-align: right;\n",
       "    }\n",
       "</style>\n",
       "<table border=\"1\" class=\"dataframe\">\n",
       "  <thead>\n",
       "    <tr style=\"text-align: right;\">\n",
       "      <th></th>\n",
       "      <th>journal</th>\n",
       "      <th>issueURL</th>\n",
       "      <th>volumn</th>\n",
       "      <th>issue</th>\n",
       "      <th>issueText</th>\n",
       "      <th>month</th>\n",
       "      <th>year</th>\n",
       "      <th>category</th>\n",
       "      <th>title</th>\n",
       "      <th>url</th>\n",
       "      <th>doi</th>\n",
       "      <th>pages</th>\n",
       "      <th>abstract</th>\n",
       "      <th>abstract_para_num</th>\n",
       "    </tr>\n",
       "  </thead>\n",
       "  <tbody>\n",
       "    <tr>\n",
       "      <th>0</th>\n",
       "      <td>Journal of Communication</td>\n",
       "      <td>https://academic.oup.com/joc/issue/72/3?browse...</td>\n",
       "      <td>Volume 72</td>\n",
       "      <td>Issue 3</td>\n",
       "      <td>Issue 3, June 2022, Pages 297–449</td>\n",
       "      <td>June</td>\n",
       "      <td>2022</td>\n",
       "      <td>Articles</td>\n",
       "      <td>The Gender Divide in Wikipedia: Quantifying an...</td>\n",
       "      <td>https://academic.oup.com/joc/article/72/3/297/...</td>\n",
       "      <td>10.1093/joc/jqac004</td>\n",
       "      <td>297–321</td>\n",
       "      <td>Wikipedia has a well-known gender divide affec...</td>\n",
       "      <td>1.0</td>\n",
       "    </tr>\n",
       "    <tr>\n",
       "      <th>1</th>\n",
       "      <td>Journal of Communication</td>\n",
       "      <td>https://academic.oup.com/joc/issue/72/3?browse...</td>\n",
       "      <td>Volume 72</td>\n",
       "      <td>Issue 3</td>\n",
       "      <td>Issue 3, June 2022, Pages 297–449</td>\n",
       "      <td>June</td>\n",
       "      <td>2022</td>\n",
       "      <td>Articles</td>\n",
       "      <td>Mapping Exposure Diversity: The Divergent Effe...</td>\n",
       "      <td>https://academic.oup.com/joc/article/72/3/322/...</td>\n",
       "      <td>10.1093/joc/jqac009</td>\n",
       "      <td>322–344</td>\n",
       "      <td>Diversity is a crucial precondition for a demo...</td>\n",
       "      <td>1.0</td>\n",
       "    </tr>\n",
       "    <tr>\n",
       "      <th>2</th>\n",
       "      <td>Journal of Communication</td>\n",
       "      <td>https://academic.oup.com/joc/issue/72/3?browse...</td>\n",
       "      <td>Volume 72</td>\n",
       "      <td>Issue 3</td>\n",
       "      <td>Issue 3, June 2022, Pages 297–449</td>\n",
       "      <td>June</td>\n",
       "      <td>2022</td>\n",
       "      <td>Articles</td>\n",
       "      <td>Democratic Consequences of Incidental Exposure...</td>\n",
       "      <td>https://academic.oup.com/joc/article/72/3/345/...</td>\n",
       "      <td>10.1093/joc/jqac008</td>\n",
       "      <td>345–373</td>\n",
       "      <td>In the last two decades, communication researc...</td>\n",
       "      <td>1.0</td>\n",
       "    </tr>\n",
       "    <tr>\n",
       "      <th>3</th>\n",
       "      <td>Journal of Communication</td>\n",
       "      <td>https://academic.oup.com/joc/issue/72/3?browse...</td>\n",
       "      <td>Volume 72</td>\n",
       "      <td>Issue 3</td>\n",
       "      <td>Issue 3, June 2022, Pages 297–449</td>\n",
       "      <td>June</td>\n",
       "      <td>2022</td>\n",
       "      <td>Articles</td>\n",
       "      <td>The Great and Powerful Dr. Oz? Alternative Hea...</td>\n",
       "      <td>https://academic.oup.com/joc/article/72/3/374/...</td>\n",
       "      <td>10.1093/joc/jqac011</td>\n",
       "      <td>374–400</td>\n",
       "      <td>Cardiothoracic surgeon Dr. Mehmet Oz, until re...</td>\n",
       "      <td>1.0</td>\n",
       "    </tr>\n",
       "    <tr>\n",
       "      <th>4</th>\n",
       "      <td>Journal of Communication</td>\n",
       "      <td>https://academic.oup.com/joc/issue/72/3?browse...</td>\n",
       "      <td>Volume 72</td>\n",
       "      <td>Issue 3</td>\n",
       "      <td>Issue 3, June 2022, Pages 297–449</td>\n",
       "      <td>June</td>\n",
       "      <td>2022</td>\n",
       "      <td>Articles</td>\n",
       "      <td>A Methodological Framework for Analyzing the A...</td>\n",
       "      <td>https://academic.oup.com/joc/article/72/3/401/...</td>\n",
       "      <td>10.1093/joc/jqac013</td>\n",
       "      <td>401–428</td>\n",
       "      <td>Media effects have been studied for decades. H...</td>\n",
       "      <td>1.0</td>\n",
       "    </tr>\n",
       "  </tbody>\n",
       "</table>\n",
       "</div>"
      ],
      "text/plain": [
       "                    journal  \\\n",
       "0  Journal of Communication   \n",
       "1  Journal of Communication   \n",
       "2  Journal of Communication   \n",
       "3  Journal of Communication   \n",
       "4  Journal of Communication   \n",
       "\n",
       "                                            issueURL     volumn    issue  \\\n",
       "0  https://academic.oup.com/joc/issue/72/3?browse...  Volume 72  Issue 3   \n",
       "1  https://academic.oup.com/joc/issue/72/3?browse...  Volume 72  Issue 3   \n",
       "2  https://academic.oup.com/joc/issue/72/3?browse...  Volume 72  Issue 3   \n",
       "3  https://academic.oup.com/joc/issue/72/3?browse...  Volume 72  Issue 3   \n",
       "4  https://academic.oup.com/joc/issue/72/3?browse...  Volume 72  Issue 3   \n",
       "\n",
       "                           issueText month  year  category  \\\n",
       "0  Issue 3, June 2022, Pages 297–449  June  2022  Articles   \n",
       "1  Issue 3, June 2022, Pages 297–449  June  2022  Articles   \n",
       "2  Issue 3, June 2022, Pages 297–449  June  2022  Articles   \n",
       "3  Issue 3, June 2022, Pages 297–449  June  2022  Articles   \n",
       "4  Issue 3, June 2022, Pages 297–449  June  2022  Articles   \n",
       "\n",
       "                                               title  \\\n",
       "0  The Gender Divide in Wikipedia: Quantifying an...   \n",
       "1  Mapping Exposure Diversity: The Divergent Effe...   \n",
       "2  Democratic Consequences of Incidental Exposure...   \n",
       "3  The Great and Powerful Dr. Oz? Alternative Hea...   \n",
       "4  A Methodological Framework for Analyzing the A...   \n",
       "\n",
       "                                                 url                  doi  \\\n",
       "0  https://academic.oup.com/joc/article/72/3/297/...  10.1093/joc/jqac004   \n",
       "1  https://academic.oup.com/joc/article/72/3/322/...  10.1093/joc/jqac009   \n",
       "2  https://academic.oup.com/joc/article/72/3/345/...  10.1093/joc/jqac008   \n",
       "3  https://academic.oup.com/joc/article/72/3/374/...  10.1093/joc/jqac011   \n",
       "4  https://academic.oup.com/joc/article/72/3/401/...  10.1093/joc/jqac013   \n",
       "\n",
       "     pages                                           abstract  \\\n",
       "0  297–321  Wikipedia has a well-known gender divide affec...   \n",
       "1  322–344  Diversity is a crucial precondition for a demo...   \n",
       "2  345–373  In the last two decades, communication researc...   \n",
       "3  374–400  Cardiothoracic surgeon Dr. Mehmet Oz, until re...   \n",
       "4  401–428  Media effects have been studied for decades. H...   \n",
       "\n",
       "   abstract_para_num  \n",
       "0                1.0  \n",
       "1                1.0  \n",
       "2                1.0  \n",
       "3                1.0  \n",
       "4                1.0  "
      ]
     },
     "execution_count": 13,
     "metadata": {},
     "output_type": "execute_result"
    }
   ],
   "source": [
    "df.head()"
   ]
  },
  {
   "cell_type": "code",
   "execution_count": 14,
   "id": "74b0754c",
   "metadata": {},
   "outputs": [],
   "source": [
    "issue_dic = dict(zip(df.category, df.issueURL))"
   ]
  },
  {
   "cell_type": "code",
   "execution_count": 24,
   "id": "9036f126",
   "metadata": {},
   "outputs": [
    {
     "data": {
      "text/html": [
       "<div>\n",
       "<style scoped>\n",
       "    .dataframe tbody tr th:only-of-type {\n",
       "        vertical-align: middle;\n",
       "    }\n",
       "\n",
       "    .dataframe tbody tr th {\n",
       "        vertical-align: top;\n",
       "    }\n",
       "\n",
       "    .dataframe thead th {\n",
       "        text-align: right;\n",
       "    }\n",
       "</style>\n",
       "<table border=\"1\" class=\"dataframe\">\n",
       "  <thead>\n",
       "    <tr style=\"text-align: right;\">\n",
       "      <th></th>\n",
       "      <th>cat</th>\n",
       "      <th>freq</th>\n",
       "    </tr>\n",
       "  </thead>\n",
       "  <tbody>\n",
       "    <tr>\n",
       "      <th>0</th>\n",
       "      <td>Articles</td>\n",
       "      <td>1667</td>\n",
       "    </tr>\n",
       "    <tr>\n",
       "      <th>1</th>\n",
       "      <td>Original Articles</td>\n",
       "      <td>1367</td>\n",
       "    </tr>\n",
       "    <tr>\n",
       "      <th>2</th>\n",
       "      <td>Article</td>\n",
       "      <td>1120</td>\n",
       "    </tr>\n",
       "    <tr>\n",
       "      <th>3</th>\n",
       "      <td>Original Article</td>\n",
       "      <td>1102</td>\n",
       "    </tr>\n",
       "    <tr>\n",
       "      <th>4</th>\n",
       "      <td>Book Reviews</td>\n",
       "      <td>367</td>\n",
       "    </tr>\n",
       "  </tbody>\n",
       "</table>\n",
       "</div>"
      ],
      "text/plain": [
       "                 cat  freq\n",
       "0           Articles  1667\n",
       "1  Original Articles  1367\n",
       "2            Article  1120\n",
       "3   Original Article  1102\n",
       "4       Book Reviews   367"
      ]
     },
     "execution_count": 24,
     "metadata": {},
     "output_type": "execute_result"
    }
   ],
   "source": [
    "cat_df = pd.DataFrame(dict(Counter(df.category).items()).items(), columns = ['cat', 'freq']).sort_values(\n",
    "    'freq', ascending= False).reset_index(drop=True)\n",
    "cat_df.head()"
   ]
  },
  {
   "cell_type": "code",
   "execution_count": 18,
   "id": "9f69202d",
   "metadata": {},
   "outputs": [],
   "source": [
    "dff = pd.read_csv('../data/interim/cat_class_raw.csv')"
   ]
  },
  {
   "cell_type": "code",
   "execution_count": 23,
   "id": "98bcb5d6",
   "metadata": {},
   "outputs": [
    {
     "data": {
      "text/html": [
       "<div>\n",
       "<style scoped>\n",
       "    .dataframe tbody tr th:only-of-type {\n",
       "        vertical-align: middle;\n",
       "    }\n",
       "\n",
       "    .dataframe tbody tr th {\n",
       "        vertical-align: top;\n",
       "    }\n",
       "\n",
       "    .dataframe thead th {\n",
       "        text-align: right;\n",
       "    }\n",
       "</style>\n",
       "<table border=\"1\" class=\"dataframe\">\n",
       "  <thead>\n",
       "    <tr style=\"text-align: right;\">\n",
       "      <th></th>\n",
       "      <th>cat</th>\n",
       "      <th>freq</th>\n",
       "      <th>TO_EXCLUDE</th>\n",
       "      <th>COMMENT</th>\n",
       "      <th>issueURL</th>\n",
       "    </tr>\n",
       "  </thead>\n",
       "  <tbody>\n",
       "    <tr>\n",
       "      <th>0</th>\n",
       "      <td>Articles</td>\n",
       "      <td>1667</td>\n",
       "      <td>NaN</td>\n",
       "      <td>NaN</td>\n",
       "      <td>https://academic.oup.com/ccc/issue/12/3?browse...</td>\n",
       "    </tr>\n",
       "    <tr>\n",
       "      <th>1</th>\n",
       "      <td>Original Articles</td>\n",
       "      <td>1367</td>\n",
       "      <td>NaN</td>\n",
       "      <td>NaN</td>\n",
       "      <td>https://academic.oup.com/ccc/issue/1/1?browseB...</td>\n",
       "    </tr>\n",
       "    <tr>\n",
       "      <th>2</th>\n",
       "      <td>Article</td>\n",
       "      <td>1120</td>\n",
       "      <td>NaN</td>\n",
       "      <td>NaN</td>\n",
       "      <td>https://academic.oup.com/jcmc/issue/3/2?browse...</td>\n",
       "    </tr>\n",
       "    <tr>\n",
       "      <th>3</th>\n",
       "      <td>Original Article</td>\n",
       "      <td>1102</td>\n",
       "      <td>NaN</td>\n",
       "      <td>NaN</td>\n",
       "      <td>https://academic.oup.com/ccc/issue/9/1?browseB...</td>\n",
       "    </tr>\n",
       "    <tr>\n",
       "      <th>4</th>\n",
       "      <td>Book Reviews</td>\n",
       "      <td>367</td>\n",
       "      <td>True</td>\n",
       "      <td>NaN</td>\n",
       "      <td>https://academic.oup.com/ccc/issue/1/3?browseB...</td>\n",
       "    </tr>\n",
       "  </tbody>\n",
       "</table>\n",
       "</div>"
      ],
      "text/plain": [
       "                 cat  freq TO_EXCLUDE COMMENT  \\\n",
       "0           Articles  1667        NaN     NaN   \n",
       "1  Original Articles  1367        NaN     NaN   \n",
       "2            Article  1120        NaN     NaN   \n",
       "3   Original Article  1102        NaN     NaN   \n",
       "4       Book Reviews   367       True     NaN   \n",
       "\n",
       "                                            issueURL  \n",
       "0  https://academic.oup.com/ccc/issue/12/3?browse...  \n",
       "1  https://academic.oup.com/ccc/issue/1/1?browseB...  \n",
       "2  https://academic.oup.com/jcmc/issue/3/2?browse...  \n",
       "3  https://academic.oup.com/ccc/issue/9/1?browseB...  \n",
       "4  https://academic.oup.com/ccc/issue/1/3?browseB...  "
      ]
     },
     "execution_count": 23,
     "metadata": {},
     "output_type": "execute_result"
    }
   ],
   "source": [
    "dff.head()"
   ]
  },
  {
   "cell_type": "code",
   "execution_count": 21,
   "id": "79a09c1a",
   "metadata": {},
   "outputs": [
    {
     "data": {
      "text/plain": [
       "965"
      ]
     },
     "execution_count": 21,
     "metadata": {},
     "output_type": "execute_result"
    }
   ],
   "source": [
    "dff[dff.TO_EXCLUDE == True].freq.sum()"
   ]
  },
  {
   "cell_type": "code",
   "execution_count": 22,
   "id": "071e347c",
   "metadata": {},
   "outputs": [
    {
     "data": {
      "text/plain": [
       "6743"
      ]
     },
     "execution_count": 22,
     "metadata": {},
     "output_type": "execute_result"
    }
   ],
   "source": [
    "7708-965"
   ]
  },
  {
   "cell_type": "code",
   "execution_count": null,
   "id": "0de3fd34",
   "metadata": {},
   "outputs": [],
   "source": []
  }
 ],
 "metadata": {
  "kernelspec": {
   "display_name": "Python 3",
   "language": "python",
   "name": "python3"
  },
  "language_info": {
   "codemirror_mode": {
    "name": "ipython",
    "version": 3
   },
   "file_extension": ".py",
   "mimetype": "text/x-python",
   "name": "python",
   "nbconvert_exporter": "python",
   "pygments_lexer": "ipython3",
   "version": "3.8.8"
  }
 },
 "nbformat": 4,
 "nbformat_minor": 5
}
