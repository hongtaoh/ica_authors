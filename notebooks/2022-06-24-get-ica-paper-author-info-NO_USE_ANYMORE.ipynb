{
 "cells": [
  {
   "cell_type": "markdown",
   "id": "2d509a11",
   "metadata": {},
   "source": [
    "## Aim\n",
    "\n",
    "I need to go to each paper individually through DOI and collect the author information."
   ]
  },
  {
   "cell_type": "code",
   "execution_count": 151,
   "id": "77b8dfc1",
   "metadata": {},
   "outputs": [],
   "source": [
    "import sys\n",
    "import pandas as pd\n",
    "from bs4 import BeautifulSoup\n",
    "import numpy as np\n",
    "import random\n",
    "import time \n",
    "import requests\n",
    "import re\n",
    "import json"
   ]
  },
  {
   "cell_type": "code",
   "execution_count": 152,
   "id": "0ca0df88",
   "metadata": {},
   "outputs": [],
   "source": [
    "ica_papers = pd.read_csv('../data/interim/ica_paper_df.csv')"
   ]
  },
  {
   "cell_type": "code",
   "execution_count": 153,
   "id": "dc61bd10",
   "metadata": {},
   "outputs": [
    {
     "data": {
      "text/html": [
       "<div>\n",
       "<style scoped>\n",
       "    .dataframe tbody tr th:only-of-type {\n",
       "        vertical-align: middle;\n",
       "    }\n",
       "\n",
       "    .dataframe tbody tr th {\n",
       "        vertical-align: top;\n",
       "    }\n",
       "\n",
       "    .dataframe thead th {\n",
       "        text-align: right;\n",
       "    }\n",
       "</style>\n",
       "<table border=\"1\" class=\"dataframe\">\n",
       "  <thead>\n",
       "    <tr style=\"text-align: right;\">\n",
       "      <th></th>\n",
       "      <th>journal</th>\n",
       "      <th>volumn</th>\n",
       "      <th>issue</th>\n",
       "      <th>month</th>\n",
       "      <th>year</th>\n",
       "      <th>category</th>\n",
       "      <th>title</th>\n",
       "      <th>url</th>\n",
       "      <th>doi</th>\n",
       "      <th>pages</th>\n",
       "      <th>abstract</th>\n",
       "      <th>abstract_para_num</th>\n",
       "    </tr>\n",
       "  </thead>\n",
       "  <tbody>\n",
       "    <tr>\n",
       "      <th>0</th>\n",
       "      <td>Journal of Communication</td>\n",
       "      <td>Volume 72</td>\n",
       "      <td>Issue 2</td>\n",
       "      <td>April</td>\n",
       "      <td>2022</td>\n",
       "      <td>Articles</td>\n",
       "      <td>Media Systems in the Digital Age: An Empirical...</td>\n",
       "      <td>https://academic.oup.com/joc/article/72/2/145/...</td>\n",
       "      <td>10.1093/joc/jqab054</td>\n",
       "      <td>145–164</td>\n",
       "      <td>NaN</td>\n",
       "      <td>0.0</td>\n",
       "    </tr>\n",
       "  </tbody>\n",
       "</table>\n",
       "</div>"
      ],
      "text/plain": [
       "                    journal     volumn    issue  month  year  category  \\\n",
       "0  Journal of Communication  Volume 72  Issue 2  April  2022  Articles   \n",
       "\n",
       "                                               title  \\\n",
       "0  Media Systems in the Digital Age: An Empirical...   \n",
       "\n",
       "                                                 url                  doi  \\\n",
       "0  https://academic.oup.com/joc/article/72/2/145/...  10.1093/joc/jqab054   \n",
       "\n",
       "     pages abstract  abstract_para_num  \n",
       "0  145–164      NaN                0.0  "
      ]
     },
     "execution_count": 153,
     "metadata": {},
     "output_type": "execute_result"
    }
   ],
   "source": [
    "ica_papers.head(1)"
   ]
  },
  {
   "cell_type": "code",
   "execution_count": 154,
   "id": "42cd73f3",
   "metadata": {},
   "outputs": [],
   "source": [
    "def get_response(url, idx):\n",
    "    headers = {\n",
    "    \"user-agent\": \"Mozilla/5.0 (Windows NT 6.1) AppleWebKit/537.36\" \\\n",
    "    \"(KHTML, like Gecko) Chrome/55.0.2883.87 Safari/537.36\",\n",
    "    }\n",
    "    response = requests.get(url=url, headers=headers)\n",
    "    while response.status_code != 200:\n",
    "        time.sleep(1)\n",
    "        print(f\"{idx} : {url} status code is {response.status_code}, retrying ...\")\n",
    "        response = requests.get(url=url, headers=headers)\n",
    "    return response \n",
    "\n",
    "def get_j(response):\n",
    "    html = response.text \n",
    "    soup = BeautifulSoup(html, 'html.parser')\n",
    "    try:\n",
    "        string = soup.select_one(\n",
    "            \"script[type='application/ld+json']\"\n",
    "        ).string.strip()\n",
    "\n",
    "        j = json.loads(string)\n",
    "    except:\n",
    "        j = None\n",
    "    return j \n",
    "\n",
    "def update_paper_data_tuples(doi, url, idx, j, paper_data_tuples):\n",
    "    title = j['name']\n",
    "    paper_type = j['@type']\n",
    "    journal = j['isPartOf']['isPartOf']['name'] or np.nan\n",
    "    date_published = j['datePublished']\n",
    "    try:\n",
    "        keywords_list = j['keywords']\n",
    "        keywords = \", \".join(keywords_list)\n",
    "    except:\n",
    "        keywords = np.nan\n",
    "        # print(f\"there are no keywords in {idx} : {url}\")\n",
    "    paper_data_tuples.append((doi, url, title, paper_type, journal, date_published, keywords))\n",
    "    return paper_data_tuples\n",
    "\n",
    "def update_author_data_tuples(doi, url, idx, j, author_data_tuples):\n",
    "    journal = j['isPartOf']['isPartOf']['name'] or np.nan\n",
    "    date_published = j['datePublished'] or np.nan\n",
    "    title = j['name'] or np.nan\n",
    "    \n",
    "    try:\n",
    "        authors = j['author']\n",
    "        author_num = len(authors)\n",
    "    except:\n",
    "        # print(f\"there is no author data in {idx} : {url}\")\n",
    "        authors = None\n",
    "        author_num = None\n",
    "        name = np.nan; aff = np.nan; author_type = np.nan\n",
    "    # if there is no author data, I don't need to proceed here\n",
    "    if authors is not None:\n",
    "        for author in authors:\n",
    "            position = authors.index(author) + 1\n",
    "            try:\n",
    "                \"\"\"\n",
    "                authors[0]['name'] returns last, and then first.\n",
    "                one example: 'Read, Stephen J.'\n",
    "                so I need to reverse the order\n",
    "                \"\"\"\n",
    "                name_elements = author['name'].split(', ')\n",
    "                name_elements.reverse()\n",
    "                name = ' '.join(name_elements)\n",
    "            except:\n",
    "                name = np.nan\n",
    "            try:\n",
    "                aff = author['affiliation']\n",
    "            except:\n",
    "                aff = np.nan\n",
    "            try:\n",
    "                author_type = author['@type']\n",
    "            except:\n",
    "                author_type = np.nan\n",
    "            author_data_tuples.append((\n",
    "                doi, url, title, journal, date_published, name, author_num, position, aff, author_type))\n",
    "    else:\n",
    "        author_data_tuples.append((\n",
    "                doi, url, title, journal, date_published))\n",
    "    return author_data_tuples"
   ]
  },
  {
   "cell_type": "code",
   "execution_count": 170,
   "id": "8449daca",
   "metadata": {},
   "outputs": [],
   "source": [
    "paper_urls = ica_papers.url.tolist()\n",
    "paper_dois = ica_papers.doi.tolist()\n",
    "url_doi_dic = dict(zip(paper_urls, paper_dois))"
   ]
  },
  {
   "cell_type": "code",
   "execution_count": 156,
   "id": "e643e764",
   "metadata": {},
   "outputs": [],
   "source": [
    "error_urls = []\n",
    "paper_data_tuples = []\n",
    "author_data_tuples = []"
   ]
  },
  {
   "cell_type": "code",
   "execution_count": 157,
   "id": "59e3b686",
   "metadata": {},
   "outputs": [],
   "source": [
    "url = 'https://academic.oup.com/joc/article/28/2/235/4371390'\n",
    "doi = url_doi_dic[url]\n",
    "idx = paper_urls.index(url) + 1\n",
    "response = get_response(url, idx)\n",
    "j = get_j(response)"
   ]
  },
  {
   "cell_type": "code",
   "execution_count": 158,
   "id": "7c7f3c48",
   "metadata": {},
   "outputs": [
    {
     "data": {
      "text/plain": [
       "[('10.1111/j.1460-2466.1978.tb01619.x',\n",
       "  'https://academic.oup.com/joc/article/28/2/235/4371390',\n",
       "  'Colloquy',\n",
       "  'ScholarlyArticle',\n",
       "  'Journal of Communication',\n",
       "  '2006-02-07',\n",
       "  'social control, informal, self control')]"
      ]
     },
     "execution_count": 158,
     "metadata": {},
     "output_type": "execute_result"
    }
   ],
   "source": [
    "update_paper_data_tuples(doi, url, idx, j, paper_data_tuples)"
   ]
  },
  {
   "cell_type": "code",
   "execution_count": 159,
   "id": "beefa7cb",
   "metadata": {},
   "outputs": [
    {
     "data": {
      "text/plain": [
       "[('10.1111/j.1460-2466.1978.tb01619.x',\n",
       "  'https://academic.oup.com/joc/article/28/2/235/4371390',\n",
       "  'Colloquy',\n",
       "  'Journal of Communication',\n",
       "  '2006-02-07')]"
      ]
     },
     "execution_count": 159,
     "metadata": {},
     "output_type": "execute_result"
    }
   ],
   "source": [
    "update_author_data_tuples(doi, url, idx, j, author_data_tuples)"
   ]
  },
  {
   "cell_type": "code",
   "execution_count": 119,
   "id": "4be4cd86",
   "metadata": {},
   "outputs": [
    {
     "ename": "KeyError",
     "evalue": "'author'",
     "output_type": "error",
     "traceback": [
      "\u001b[0;31m---------------------------------------------------------------------------\u001b[0m",
      "\u001b[0;31mKeyError\u001b[0m                                  Traceback (most recent call last)",
      "Input \u001b[0;32mIn [119]\u001b[0m, in \u001b[0;36m<cell line: 1>\u001b[0;34m()\u001b[0m\n\u001b[0;32m----> 1\u001b[0m authors \u001b[38;5;241m=\u001b[39m \u001b[43mj\u001b[49m\u001b[43m[\u001b[49m\u001b[38;5;124;43m'\u001b[39;49m\u001b[38;5;124;43mauthor\u001b[39;49m\u001b[38;5;124;43m'\u001b[39;49m\u001b[43m]\u001b[49m\n\u001b[1;32m      2\u001b[0m author_num \u001b[38;5;241m=\u001b[39m \u001b[38;5;28mlen\u001b[39m(authors)\n",
      "\u001b[0;31mKeyError\u001b[0m: 'author'"
     ]
    }
   ],
   "source": [
    "authors = j['author']\n",
    "author_num = len(authors)"
   ]
  },
  {
   "cell_type": "code",
   "execution_count": 98,
   "id": "fd58c2d9",
   "metadata": {},
   "outputs": [
    {
     "data": {
      "text/plain": [
       "[{'name': 'Wessler, Hartmut',\n",
       "  'affiliation': '1 Institute for Media and Communication Studies, University of Mannheim, 68159, Mannheim, Germany',\n",
       "  '@type': 'Person'},\n",
       " {'name': 'Rinke, Eike Mark',\n",
       "  'affiliation': '1 Institute for Media and Communication Studies, University of Mannheim, 68159, Mannheim, Germany',\n",
       "  '@type': 'Person'},\n",
       " {'name': 'Löb, Charlotte',\n",
       "  'affiliation': '1 Institute for Media and Communication Studies, University of Mannheim, 68159, Mannheim, Germany',\n",
       "  '@type': 'Person'}]"
      ]
     },
     "execution_count": 98,
     "metadata": {},
     "output_type": "execute_result"
    }
   ],
   "source": [
    "authors"
   ]
  },
  {
   "cell_type": "code",
   "execution_count": 99,
   "id": "8edb528c",
   "metadata": {},
   "outputs": [
    {
     "data": {
      "text/plain": [
       "{'name': 'Wessler, Hartmut',\n",
       " 'affiliation': '1 Institute for Media and Communication Studies, University of Mannheim, 68159, Mannheim, Germany',\n",
       " '@type': 'Person'}"
      ]
     },
     "execution_count": 99,
     "metadata": {},
     "output_type": "execute_result"
    }
   ],
   "source": [
    "authors[0]"
   ]
  },
  {
   "cell_type": "code",
   "execution_count": 100,
   "id": "1149ca14",
   "metadata": {},
   "outputs": [
    {
     "name": "stdout",
     "output_type": "stream",
     "text": [
      "1 Hartmut Wessler\n",
      "2 Eike Mark Rinke\n",
      "3 Charlotte Löb\n"
     ]
    }
   ],
   "source": [
    "for author in authors:\n",
    "    position = authors.index(author) + 1\n",
    "    name_elements = author['name'].split(', ')\n",
    "    name_elements.reverse()\n",
    "    name = ' '.join(name_elements)\n",
    "    print(position, name)"
   ]
  },
  {
   "cell_type": "code",
   "execution_count": 171,
   "id": "76b539ce",
   "metadata": {},
   "outputs": [],
   "source": [
    "paper_urls = random.sample(paper_urls, 5)\n",
    "paper_urls.append('https://academic.oup.com/joc/article/28/2/235/4371390')"
   ]
  },
  {
   "cell_type": "code",
   "execution_count": 172,
   "id": "e0737ffa",
   "metadata": {},
   "outputs": [
    {
     "data": {
      "text/plain": [
       "['https://academic.oup.com/joc/article/14/3/136/4569101',\n",
       " 'https://academic.oup.com/joc/article/25/4/25/4553704',\n",
       " 'https://academic.oup.com/hcr/article/23/3/370/4564960',\n",
       " 'https://academic.oup.com/joc/article/72/2/145/6509144',\n",
       " 'https://academic.oup.com/joc/article/26/3/154/4553870',\n",
       " 'https://academic.oup.com/joc/article/28/2/235/4371390']"
      ]
     },
     "execution_count": 172,
     "metadata": {},
     "output_type": "execute_result"
    }
   ],
   "source": [
    "paper_urls"
   ]
  },
  {
   "cell_type": "code",
   "execution_count": 173,
   "id": "d7ff1825",
   "metadata": {},
   "outputs": [],
   "source": [
    "error_urls = []\n",
    "paper_data_tuples = []\n",
    "author_data_tuples = []"
   ]
  },
  {
   "cell_type": "code",
   "execution_count": 174,
   "id": "b6550919",
   "metadata": {},
   "outputs": [
    {
     "name": "stdout",
     "output_type": "stream",
     "text": [
      "1 is done\n",
      "2 is done\n",
      "3 is done\n",
      "4 is done\n",
      "5 is done\n",
      "6 is done\n"
     ]
    }
   ],
   "source": [
    "for url in paper_urls:\n",
    "    doi = url_doi_dic[url]\n",
    "    idx = paper_urls.index(url) + 1\n",
    "    response = get_response(url, idx)\n",
    "    j = get_j(response)\n",
    "    if j is not None:\n",
    "        update_paper_data_tuples(doi, url, idx, j, paper_data_tuples)\n",
    "        update_author_data_tuples(doi, url, idx, j, author_data_tuples)\n",
    "    else:\n",
    "        print(f'something wrong with {idx} : {url}')\n",
    "        paper_data_tuples.append((doi, url, np.nan, np.nan, np.nan, np.nan))\n",
    "        author_data_tuples.append((doi, url, np.nan, np.nan, np.nan, np.nan))\n",
    "        error_urls.append(url)\n",
    "    print(f'{idx} is done')\n",
    "    time.sleep(0.5 + random.uniform(0, 0.4))"
   ]
  },
  {
   "cell_type": "code",
   "execution_count": 175,
   "id": "2f9a22c6",
   "metadata": {},
   "outputs": [
    {
     "data": {
      "text/plain": [
       "12"
      ]
     },
     "execution_count": 175,
     "metadata": {},
     "output_type": "execute_result"
    }
   ],
   "source": [
    "len(author_data_tuples)"
   ]
  },
  {
   "cell_type": "code",
   "execution_count": 176,
   "id": "7c34df5e",
   "metadata": {},
   "outputs": [],
   "source": [
    "author_data = pd.DataFrame(\n",
    "        list(author_data_tuples),\n",
    "        columns = [\n",
    "            'doi',\n",
    "            'url',\n",
    "            'title',\n",
    "            'journal',\n",
    "            'pubdate',\n",
    "            'authorName',\n",
    "            'numberOfAuthors',\n",
    "            'authorPosition',\n",
    "            'affiliation',\n",
    "            'authorType',\n",
    "        ]\n",
    "    )"
   ]
  },
  {
   "cell_type": "code",
   "execution_count": 177,
   "id": "3528c5cc",
   "metadata": {},
   "outputs": [
    {
     "data": {
      "text/html": [
       "<div>\n",
       "<style scoped>\n",
       "    .dataframe tbody tr th:only-of-type {\n",
       "        vertical-align: middle;\n",
       "    }\n",
       "\n",
       "    .dataframe tbody tr th {\n",
       "        vertical-align: top;\n",
       "    }\n",
       "\n",
       "    .dataframe thead th {\n",
       "        text-align: right;\n",
       "    }\n",
       "</style>\n",
       "<table border=\"1\" class=\"dataframe\">\n",
       "  <thead>\n",
       "    <tr style=\"text-align: right;\">\n",
       "      <th></th>\n",
       "      <th>doi</th>\n",
       "      <th>url</th>\n",
       "      <th>title</th>\n",
       "      <th>journal</th>\n",
       "      <th>pubdate</th>\n",
       "      <th>authorName</th>\n",
       "      <th>numberOfAuthors</th>\n",
       "      <th>authorPosition</th>\n",
       "      <th>affiliation</th>\n",
       "      <th>authorType</th>\n",
       "    </tr>\n",
       "  </thead>\n",
       "  <tbody>\n",
       "    <tr>\n",
       "      <th>0</th>\n",
       "      <td>10.1111/j.1460-2466.1964.tb02360.x</td>\n",
       "      <td>https://academic.oup.com/joc/article/14/3/136/...</td>\n",
       "      <td>Readability Re-Examined</td>\n",
       "      <td>Journal of Communication</td>\n",
       "      <td>2006-02-07</td>\n",
       "      <td>Niel K. Snortum</td>\n",
       "      <td>1.0</td>\n",
       "      <td>1.0</td>\n",
       "      <td>1 Dr. Snortum is an Associate Professor at San...</td>\n",
       "      <td>Person</td>\n",
       "    </tr>\n",
       "    <tr>\n",
       "      <th>1</th>\n",
       "      <td>10.1111/j.1460-2466.1975.tb00635.x</td>\n",
       "      <td>https://academic.oup.com/joc/article/25/4/25/4...</td>\n",
       "      <td>The Evidence So Far</td>\n",
       "      <td>Journal of Communication</td>\n",
       "      <td>2006-02-07</td>\n",
       "      <td>George Comstock</td>\n",
       "      <td>1.0</td>\n",
       "      <td>1.0</td>\n",
       "      <td>1 George Comstock is a senior social psycholog...</td>\n",
       "      <td>Person</td>\n",
       "    </tr>\n",
       "    <tr>\n",
       "      <th>2</th>\n",
       "      <td>10.1111/j.1468-2958.1997.tb00401.x</td>\n",
       "      <td>https://academic.oup.com/hcr/article/23/3/370/...</td>\n",
       "      <td>Predicting Employee Turnover from Communicatio...</td>\n",
       "      <td>Human Communication Research</td>\n",
       "      <td>2006-03-17</td>\n",
       "      <td>Thomas H. Feeley</td>\n",
       "      <td>2.0</td>\n",
       "      <td>1.0</td>\n",
       "      <td>1 Thomas H. Feeley (Ph.D., State University of...</td>\n",
       "      <td>Person</td>\n",
       "    </tr>\n",
       "    <tr>\n",
       "      <th>3</th>\n",
       "      <td>10.1111/j.1468-2958.1997.tb00401.x</td>\n",
       "      <td>https://academic.oup.com/hcr/article/23/3/370/...</td>\n",
       "      <td>Predicting Employee Turnover from Communicatio...</td>\n",
       "      <td>Human Communication Research</td>\n",
       "      <td>2006-03-17</td>\n",
       "      <td>George A. Barnett</td>\n",
       "      <td>2.0</td>\n",
       "      <td>2.0</td>\n",
       "      <td>2 George Barnett (Ph.D., Michigan State Univer...</td>\n",
       "      <td>Person</td>\n",
       "    </tr>\n",
       "    <tr>\n",
       "      <th>4</th>\n",
       "      <td>10.1093/joc/jqab054</td>\n",
       "      <td>https://academic.oup.com/joc/article/72/2/145/...</td>\n",
       "      <td>Media Systems in the Digital Age: An Empirical...</td>\n",
       "      <td>Journal of Communication</td>\n",
       "      <td>2022-01-17</td>\n",
       "      <td>Edda Humprecht</td>\n",
       "      <td>5.0</td>\n",
       "      <td>1.0</td>\n",
       "      <td>Department of Communication and Media Research...</td>\n",
       "      <td>Person</td>\n",
       "    </tr>\n",
       "    <tr>\n",
       "      <th>5</th>\n",
       "      <td>10.1093/joc/jqab054</td>\n",
       "      <td>https://academic.oup.com/joc/article/72/2/145/...</td>\n",
       "      <td>Media Systems in the Digital Age: An Empirical...</td>\n",
       "      <td>Journal of Communication</td>\n",
       "      <td>2022-01-17</td>\n",
       "      <td>Laia Castro Herrero</td>\n",
       "      <td>5.0</td>\n",
       "      <td>2.0</td>\n",
       "      <td>Department of Communication and Media Research...</td>\n",
       "      <td>Person</td>\n",
       "    </tr>\n",
       "    <tr>\n",
       "      <th>6</th>\n",
       "      <td>10.1093/joc/jqab054</td>\n",
       "      <td>https://academic.oup.com/joc/article/72/2/145/...</td>\n",
       "      <td>Media Systems in the Digital Age: An Empirical...</td>\n",
       "      <td>Journal of Communication</td>\n",
       "      <td>2022-01-17</td>\n",
       "      <td>Sina Blassnig</td>\n",
       "      <td>5.0</td>\n",
       "      <td>3.0</td>\n",
       "      <td>Department of Communication and Media Research...</td>\n",
       "      <td>Person</td>\n",
       "    </tr>\n",
       "    <tr>\n",
       "      <th>7</th>\n",
       "      <td>10.1093/joc/jqab054</td>\n",
       "      <td>https://academic.oup.com/joc/article/72/2/145/...</td>\n",
       "      <td>Media Systems in the Digital Age: An Empirical...</td>\n",
       "      <td>Journal of Communication</td>\n",
       "      <td>2022-01-17</td>\n",
       "      <td>Michael Brüggemann</td>\n",
       "      <td>5.0</td>\n",
       "      <td>4.0</td>\n",
       "      <td>Department of Journalism and Mass Communicatio...</td>\n",
       "      <td>Person</td>\n",
       "    </tr>\n",
       "    <tr>\n",
       "      <th>8</th>\n",
       "      <td>10.1093/joc/jqab054</td>\n",
       "      <td>https://academic.oup.com/joc/article/72/2/145/...</td>\n",
       "      <td>Media Systems in the Digital Age: An Empirical...</td>\n",
       "      <td>Journal of Communication</td>\n",
       "      <td>2022-01-17</td>\n",
       "      <td>Sven Engesser</td>\n",
       "      <td>5.0</td>\n",
       "      <td>5.0</td>\n",
       "      <td>Institute of Media and Communication, Technica...</td>\n",
       "      <td>Person</td>\n",
       "    </tr>\n",
       "    <tr>\n",
       "      <th>9</th>\n",
       "      <td>10.1111/j.1460-2466.1976.tb01919.x</td>\n",
       "      <td>https://academic.oup.com/joc/article/26/3/154/...</td>\n",
       "      <td>Putdown Humor</td>\n",
       "      <td>Journal of Communication</td>\n",
       "      <td>2006-02-07</td>\n",
       "      <td>Dolf Zillmann</td>\n",
       "      <td>2.0</td>\n",
       "      <td>1.0</td>\n",
       "      <td>1 Dolf Zillman is Professor of Communication a...</td>\n",
       "      <td>Person</td>\n",
       "    </tr>\n",
       "    <tr>\n",
       "      <th>10</th>\n",
       "      <td>10.1111/j.1460-2466.1976.tb01919.x</td>\n",
       "      <td>https://academic.oup.com/joc/article/26/3/154/...</td>\n",
       "      <td>Putdown Humor</td>\n",
       "      <td>Journal of Communication</td>\n",
       "      <td>2006-02-07</td>\n",
       "      <td>S. Holly Stocking</td>\n",
       "      <td>2.0</td>\n",
       "      <td>2.0</td>\n",
       "      <td>2 S. Holly Stocking is a doctoral student in M...</td>\n",
       "      <td>Person</td>\n",
       "    </tr>\n",
       "    <tr>\n",
       "      <th>11</th>\n",
       "      <td>10.1111/j.1460-2466.1978.tb01619.x</td>\n",
       "      <td>https://academic.oup.com/joc/article/28/2/235/...</td>\n",
       "      <td>Colloquy</td>\n",
       "      <td>Journal of Communication</td>\n",
       "      <td>2006-02-07</td>\n",
       "      <td>None</td>\n",
       "      <td>NaN</td>\n",
       "      <td>NaN</td>\n",
       "      <td>None</td>\n",
       "      <td>None</td>\n",
       "    </tr>\n",
       "  </tbody>\n",
       "</table>\n",
       "</div>"
      ],
      "text/plain": [
       "                                   doi  \\\n",
       "0   10.1111/j.1460-2466.1964.tb02360.x   \n",
       "1   10.1111/j.1460-2466.1975.tb00635.x   \n",
       "2   10.1111/j.1468-2958.1997.tb00401.x   \n",
       "3   10.1111/j.1468-2958.1997.tb00401.x   \n",
       "4                  10.1093/joc/jqab054   \n",
       "5                  10.1093/joc/jqab054   \n",
       "6                  10.1093/joc/jqab054   \n",
       "7                  10.1093/joc/jqab054   \n",
       "8                  10.1093/joc/jqab054   \n",
       "9   10.1111/j.1460-2466.1976.tb01919.x   \n",
       "10  10.1111/j.1460-2466.1976.tb01919.x   \n",
       "11  10.1111/j.1460-2466.1978.tb01619.x   \n",
       "\n",
       "                                                  url  \\\n",
       "0   https://academic.oup.com/joc/article/14/3/136/...   \n",
       "1   https://academic.oup.com/joc/article/25/4/25/4...   \n",
       "2   https://academic.oup.com/hcr/article/23/3/370/...   \n",
       "3   https://academic.oup.com/hcr/article/23/3/370/...   \n",
       "4   https://academic.oup.com/joc/article/72/2/145/...   \n",
       "5   https://academic.oup.com/joc/article/72/2/145/...   \n",
       "6   https://academic.oup.com/joc/article/72/2/145/...   \n",
       "7   https://academic.oup.com/joc/article/72/2/145/...   \n",
       "8   https://academic.oup.com/joc/article/72/2/145/...   \n",
       "9   https://academic.oup.com/joc/article/26/3/154/...   \n",
       "10  https://academic.oup.com/joc/article/26/3/154/...   \n",
       "11  https://academic.oup.com/joc/article/28/2/235/...   \n",
       "\n",
       "                                                title  \\\n",
       "0                             Readability Re-Examined   \n",
       "1                                 The Evidence So Far   \n",
       "2   Predicting Employee Turnover from Communicatio...   \n",
       "3   Predicting Employee Turnover from Communicatio...   \n",
       "4   Media Systems in the Digital Age: An Empirical...   \n",
       "5   Media Systems in the Digital Age: An Empirical...   \n",
       "6   Media Systems in the Digital Age: An Empirical...   \n",
       "7   Media Systems in the Digital Age: An Empirical...   \n",
       "8   Media Systems in the Digital Age: An Empirical...   \n",
       "9                                       Putdown Humor   \n",
       "10                                      Putdown Humor   \n",
       "11                                           Colloquy   \n",
       "\n",
       "                         journal     pubdate           authorName  \\\n",
       "0       Journal of Communication  2006-02-07      Niel K. Snortum   \n",
       "1       Journal of Communication  2006-02-07      George Comstock   \n",
       "2   Human Communication Research  2006-03-17     Thomas H. Feeley   \n",
       "3   Human Communication Research  2006-03-17    George A. Barnett   \n",
       "4       Journal of Communication  2022-01-17       Edda Humprecht   \n",
       "5       Journal of Communication  2022-01-17  Laia Castro Herrero   \n",
       "6       Journal of Communication  2022-01-17        Sina Blassnig   \n",
       "7       Journal of Communication  2022-01-17   Michael Brüggemann   \n",
       "8       Journal of Communication  2022-01-17        Sven Engesser   \n",
       "9       Journal of Communication  2006-02-07        Dolf Zillmann   \n",
       "10      Journal of Communication  2006-02-07    S. Holly Stocking   \n",
       "11      Journal of Communication  2006-02-07                 None   \n",
       "\n",
       "    numberOfAuthors  authorPosition  \\\n",
       "0               1.0             1.0   \n",
       "1               1.0             1.0   \n",
       "2               2.0             1.0   \n",
       "3               2.0             2.0   \n",
       "4               5.0             1.0   \n",
       "5               5.0             2.0   \n",
       "6               5.0             3.0   \n",
       "7               5.0             4.0   \n",
       "8               5.0             5.0   \n",
       "9               2.0             1.0   \n",
       "10              2.0             2.0   \n",
       "11              NaN             NaN   \n",
       "\n",
       "                                          affiliation authorType  \n",
       "0   1 Dr. Snortum is an Associate Professor at San...     Person  \n",
       "1   1 George Comstock is a senior social psycholog...     Person  \n",
       "2   1 Thomas H. Feeley (Ph.D., State University of...     Person  \n",
       "3   2 George Barnett (Ph.D., Michigan State Univer...     Person  \n",
       "4   Department of Communication and Media Research...     Person  \n",
       "5   Department of Communication and Media Research...     Person  \n",
       "6   Department of Communication and Media Research...     Person  \n",
       "7   Department of Journalism and Mass Communicatio...     Person  \n",
       "8   Institute of Media and Communication, Technica...     Person  \n",
       "9   1 Dolf Zillman is Professor of Communication a...     Person  \n",
       "10  2 S. Holly Stocking is a doctoral student in M...     Person  \n",
       "11                                               None       None  "
      ]
     },
     "execution_count": 177,
     "metadata": {},
     "output_type": "execute_result"
    }
   ],
   "source": [
    "author_data"
   ]
  },
  {
   "cell_type": "code",
   "execution_count": null,
   "id": "1da1d455",
   "metadata": {},
   "outputs": [],
   "source": [
    "paper_data = pd.DataFrame(\n",
    "        list(paper_data_tuples),\n",
    "        columns = [\n",
    "            'doi',\n",
    "            'url',\n",
    "            'title',\n",
    "            'paperType',\n",
    "            'journal',\n",
    "            'datePublished',\n",
    "            'keywords'\n",
    "        ]\n",
    "    )"
   ]
  }
 ],
 "metadata": {
  "kernelspec": {
   "display_name": "Python 3 (ipykernel)",
   "language": "python",
   "name": "python3"
  },
  "language_info": {
   "codemirror_mode": {
    "name": "ipython",
    "version": 3
   },
   "file_extension": ".py",
   "mimetype": "text/x-python",
   "name": "python",
   "nbconvert_exporter": "python",
   "pygments_lexer": "ipython3",
   "version": "3.8.13"
  }
 },
 "nbformat": 4,
 "nbformat_minor": 5
}
