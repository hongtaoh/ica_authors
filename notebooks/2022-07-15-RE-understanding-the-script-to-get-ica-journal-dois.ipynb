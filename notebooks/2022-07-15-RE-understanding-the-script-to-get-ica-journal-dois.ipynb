{
 "cells": [
  {
   "cell_type": "markdown",
   "id": "6195eb67",
   "metadata": {},
   "source": [
    "## Aim\n",
    "\n",
    "I aim to re-understand the script of `scrape_ica_paper_dois.py`."
   ]
  },
  {
   "cell_type": "code",
   "execution_count": 1,
   "id": "1e0d99f3",
   "metadata": {},
   "outputs": [],
   "source": [
    "import pandas as pd\n",
    "import numpy as np\n",
    "import time \n",
    "import random\n",
    "import re\n",
    "from selenium import webdriver\n",
    "from selenium.webdriver.common.by import By\n",
    "from selenium.webdriver.support.ui import WebDriverWait\n",
    "from selenium.webdriver.support import expected_conditions as EC \n",
    "from selenium.common.exceptions import TimeoutException\n",
    "from selenium.common.exceptions import NoSuchElementException \n",
    "import sys"
   ]
  },
  {
   "cell_type": "code",
   "execution_count": 2,
   "id": "09a88039",
   "metadata": {},
   "outputs": [],
   "source": [
    "def get_journal_and_urls():\n",
    "    journals = [\n",
    "        'Journal of Communication',\n",
    "        'Human Communication Research',\n",
    "        'Communication Theory',\n",
    "        'Journal of Computer-Mediated Communication',\n",
    "        'Communication, Culture and Critique',\n",
    "    ]\n",
    "    j_urls = [\n",
    "        'https://academic.oup.com/joc/issue',\n",
    "        'https://academic.oup.com/hcr/issue',\n",
    "        'https://academic.oup.com/ct/issue',\n",
    "        'https://academic.oup.com/jcmc/issue',\n",
    "        'https://academic.oup.com/ccc/issue',\n",
    "    ]\n",
    "    url_j_dic = dict(zip(j_urls, journals))\n",
    "    return journals, j_urls, url_j_dic "
   ]
  },
  {
   "cell_type": "code",
   "execution_count": 6,
   "id": "4d6a1b06",
   "metadata": {},
   "outputs": [],
   "source": [
    "driver = webdriver.Firefox()\n",
    "wait = WebDriverWait(driver, 3)"
   ]
  },
  {
   "cell_type": "code",
   "execution_count": 7,
   "id": "25b79088",
   "metadata": {},
   "outputs": [],
   "source": [
    "journals, j_urls, url_j_dic = get_journal_and_urls()"
   ]
  },
  {
   "cell_type": "code",
   "execution_count": 8,
   "id": "cab1865f",
   "metadata": {},
   "outputs": [
    {
     "data": {
      "text/plain": [
       "('https://academic.oup.com/joc/issue', 'Journal of Communication')"
      ]
     },
     "execution_count": 8,
     "metadata": {},
     "output_type": "execute_result"
    }
   ],
   "source": [
    "j_url = j_urls[0]\n",
    "journal = journals[0]\n",
    "j_url, journal"
   ]
  },
  {
   "cell_type": "code",
   "execution_count": 9,
   "id": "8b78f0e2",
   "metadata": {},
   "outputs": [],
   "source": [
    "driver.get(j_url)"
   ]
  },
  {
   "cell_type": "code",
   "execution_count": 10,
   "id": "7468cbf4",
   "metadata": {},
   "outputs": [],
   "source": [
    "def click_browse_by_volume():\n",
    "\tbrowse_volume_link = wait.until(EC.element_to_be_clickable((\n",
    "\t\tBy.CSS_SELECTOR, \"div.issue-browse-volume-link > a\"\n",
    "\t)))\n",
    "\tbrowse_volume_link.click()"
   ]
  },
  {
   "cell_type": "code",
   "execution_count": 11,
   "id": "82e5225c",
   "metadata": {},
   "outputs": [],
   "source": [
    "click_browse_by_volume()"
   ]
  },
  {
   "cell_type": "code",
   "execution_count": 12,
   "id": "5f00704e",
   "metadata": {},
   "outputs": [],
   "source": [
    "def get_volume_and_issue():\n",
    "\tvolume_and_issue = wait.until(EC.presence_of_element_located((\n",
    "\t\tBy.CSS_SELECTOR, \"div.issue-info-pub\"\n",
    "\t))).text\n",
    "\tsplit_text = volume_and_issue.split(', ')\n",
    "\tvolume_num = split_text[0]\n",
    "\tissue_num = split_text[1]\n",
    "\treturn volume_num, issue_num"
   ]
  },
  {
   "cell_type": "code",
   "execution_count": 13,
   "id": "8f1962d5",
   "metadata": {},
   "outputs": [],
   "source": [
    "volume_num, issue_num = get_volume_and_issue()"
   ]
  },
  {
   "cell_type": "code",
   "execution_count": 14,
   "id": "2a5b4bd0",
   "metadata": {},
   "outputs": [
    {
     "data": {
      "text/plain": [
       "'Volume 72'"
      ]
     },
     "execution_count": 14,
     "metadata": {},
     "output_type": "execute_result"
    }
   ],
   "source": [
    "volume_num"
   ]
  },
  {
   "cell_type": "code",
   "execution_count": 15,
   "id": "91d349f1",
   "metadata": {},
   "outputs": [
    {
     "data": {
      "text/plain": [
       "'Issue 3'"
      ]
     },
     "execution_count": 15,
     "metadata": {},
     "output_type": "execute_result"
    }
   ],
   "source": [
    "issue_num"
   ]
  },
  {
   "cell_type": "code",
   "execution_count": 17,
   "id": "d53b20e4",
   "metadata": {},
   "outputs": [
    {
     "data": {
      "text/plain": [
       "'Volume 72, Issue 3'"
      ]
     },
     "execution_count": 17,
     "metadata": {},
     "output_type": "execute_result"
    }
   ],
   "source": [
    "v_and_issue = driver.find_elements(\n",
    "    By.CSS_SELECTOR, \"div.issue-info-pub\"\n",
    ")\n",
    "v_and_issue[0].text"
   ]
  },
  {
   "cell_type": "code",
   "execution_count": 18,
   "id": "819312e9",
   "metadata": {},
   "outputs": [
    {
     "data": {
      "text/plain": [
       "'Volume 72, Issue 3, June 2022'"
      ]
     },
     "execution_count": 18,
     "metadata": {},
     "output_type": "execute_result"
    }
   ],
   "source": [
    "v_and_issue[1].text"
   ]
  },
  {
   "cell_type": "code",
   "execution_count": 19,
   "id": "48cbd29e",
   "metadata": {},
   "outputs": [],
   "source": [
    "def get_mo_and_yr():\n",
    "\t# get the issue date information from the left panel\n",
    "\tissue_date = wait.until(EC.presence_of_element_located((\n",
    "\t\tBy.CSS_SELECTOR, \"div.issue-info-date\"\n",
    "\t))).text\n",
    "\tsplit_text = issue_date.split(' ')\n",
    "\tyear = split_text[-1]\n",
    "\t# sometimes the issue_date is in the format of \"1 March 2004\"\n",
    "\t# for example: https://academic.oup.com/joc/issue/54/1\n",
    "\tif len(split_text) > 2:\n",
    "\t\tmonth = split_text[1]\n",
    "\telse:\n",
    "\t\tmonth = split_text[0]\n",
    "\treturn month, year"
   ]
  },
  {
   "cell_type": "code",
   "execution_count": 20,
   "id": "b6ea41a3",
   "metadata": {},
   "outputs": [],
   "source": [
    "month, year = get_mo_and_yr()"
   ]
  },
  {
   "cell_type": "code",
   "execution_count": 21,
   "id": "d8c873fe",
   "metadata": {},
   "outputs": [
    {
     "data": {
      "text/plain": [
       "('June', '2022')"
      ]
     },
     "execution_count": 21,
     "metadata": {},
     "output_type": "execute_result"
    }
   ],
   "source": [
    "month, year"
   ]
  },
  {
   "cell_type": "code",
   "execution_count": null,
   "id": "6b9057f1",
   "metadata": {},
   "outputs": [],
   "source": []
  }
 ],
 "metadata": {
  "kernelspec": {
   "display_name": "Python 3 (ipykernel)",
   "language": "python",
   "name": "python3"
  },
  "language_info": {
   "codemirror_mode": {
    "name": "ipython",
    "version": 3
   },
   "file_extension": ".py",
   "mimetype": "text/x-python",
   "name": "python",
   "nbconvert_exporter": "python",
   "pygments_lexer": "ipython3",
   "version": "3.8.13"
  }
 },
 "nbformat": 4,
 "nbformat_minor": 5
}
