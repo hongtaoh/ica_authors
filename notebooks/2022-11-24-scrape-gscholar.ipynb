{
 "cells": [
  {
   "cell_type": "code",
   "execution_count": 57,
   "id": "4f7bd554",
   "metadata": {},
   "outputs": [],
   "source": [
    "import pandas as pd\n",
    "import time\n",
    "from bs4 import BeautifulSoup\n",
    "from selenium import webdriver\n",
    "from selenium.webdriver.common.by import By\n",
    "from selenium.webdriver.support.ui import WebDriverWait\n",
    "from selenium.webdriver.support import expected_conditions as EC \n",
    "from selenium.common.exceptions import TimeoutException\n",
    "from selenium.webdriver.common.keys import Keys\n",
    "from selenium.webdriver.firefox.options import Options\n",
    "from selenium.common.exceptions import NoSuchElementException \n",
    "from selenium.common.exceptions import ElementNotInteractableException\n",
    "import os\n",
    "import random\n",
    "import re\n",
    "import csv\n",
    "import numpy as np\n",
    "import urllib.parse"
   ]
  },
  {
   "cell_type": "code",
   "execution_count": 67,
   "id": "f9cdbd41",
   "metadata": {},
   "outputs": [],
   "source": [
    "df = pd.read_csv('../data/processed/authors_to_study.csv')"
   ]
  },
  {
   "cell_type": "code",
   "execution_count": 68,
   "id": "eace7977",
   "metadata": {},
   "outputs": [],
   "source": [
    "# query = df.title + ', ' + df.journal\n",
    "# query[0]"
   ]
  },
  {
   "cell_type": "code",
   "execution_count": 69,
   "id": "9b09c0e9",
   "metadata": {},
   "outputs": [],
   "source": [
    "dff = df[df.authorPosition == 1]\n",
    "titles = dff.title.tolist()\n",
    "dois = dff.doi.tolist()\n",
    "query = dff.title + ', ' + dff.journal + ', ' + dff.authorFullName\n",
    "papers = query.tolist()"
   ]
  },
  {
   "cell_type": "code",
   "execution_count": 70,
   "id": "0d599bb3",
   "metadata": {},
   "outputs": [
    {
     "data": {
      "text/plain": [
       "'The Gender Divide in Wikipedia: Quantifying and Assessing the Impact of Two Feminist Interventions, Journal of Communication, Isabelle Langrock'"
      ]
     },
     "execution_count": 70,
     "metadata": {},
     "output_type": "execute_result"
    }
   ],
   "source": [
    "papers[0]"
   ]
  },
  {
   "cell_type": "code",
   "execution_count": 71,
   "id": "db670c24",
   "metadata": {},
   "outputs": [],
   "source": [
    "driver = webdriver.Firefox()\n",
    "wait = WebDriverWait(driver, 60)"
   ]
  },
  {
   "cell_type": "code",
   "execution_count": 72,
   "id": "3f904433",
   "metadata": {},
   "outputs": [],
   "source": [
    "random_papers = random.sample(papers, 10)"
   ]
  },
  {
   "cell_type": "code",
   "execution_count": 73,
   "id": "b5c71a6a",
   "metadata": {},
   "outputs": [],
   "source": [
    "gscholar_dict_list = []"
   ]
  },
  {
   "cell_type": "code",
   "execution_count": 74,
   "id": "062c6819",
   "metadata": {},
   "outputs": [
    {
     "name": "stdout",
     "output_type": "stream",
     "text": [
      "paper 1 is done!\n",
      "paper 2 is done!\n",
      "paper 3 is done!\n",
      "paper 4 is done!\n",
      "paper 5 is done!\n",
      "paper 6 is done!\n",
      "paper 7 is done!\n",
      "paper 8 is done!\n",
      "paper 9 is done!\n",
      "paper 10 is done!\n"
     ]
    }
   ],
   "source": [
    "for paper in random_papers:\n",
    "    idx = papers.index(paper)\n",
    "    cur_idx = random_papers.index(paper)\n",
    "    orig_title = titles[idx]\n",
    "    doi = dois[idx]\n",
    "    query_string = 'https://scholar.google.com/scholar?hl=en&as_sdt=0%2C50&q='\n",
    "    driver.get(query_string + paper + '&btnG=')\n",
    "    gs_paper_e = wait.until(EC.presence_of_element_located((\n",
    "            By.CSS_SELECTOR, 'h3.gs_rt')))\n",
    "    gs_paper_title = gs_paper_e.text\n",
    "    gs_citation_e = wait.until(\n",
    "        EC.presence_of_element_located((By.XPATH, '//div[@class=\"gs_fl\"]//child::a[3]'\n",
    "    )))\n",
    "    citation_link = gs_citation_e.get_attribute('href')\n",
    "    citation_count_string = gs_citation_e.get_attribute('innerHTML')\n",
    "    if citation_count_string == \"Related articles\":\n",
    "        gs_citation_count = 0\n",
    "    else:\n",
    "        gs_citation_count = int(re.findall(r'\\d+', citation_count_string)[0])\n",
    "    gscholar_dict = {\n",
    "        'Original Title': orig_title,\n",
    "        'DOI': doi,\n",
    "        'Title on Google Scholar': gs_paper_title,\n",
    "        'Citation Link': citation_link,\n",
    "        'Citation Counts on Google Scholar': gs_citation_count,\n",
    "    }\n",
    "    gscholar_dict_list.append(gscholar_dict)\n",
    "    print(f'paper {cur_idx + 1} is done!')"
   ]
  },
  {
   "cell_type": "code",
   "execution_count": 75,
   "id": "904c302f",
   "metadata": {},
   "outputs": [
    {
     "data": {
      "text/html": [
       "<div>\n",
       "<style scoped>\n",
       "    .dataframe tbody tr th:only-of-type {\n",
       "        vertical-align: middle;\n",
       "    }\n",
       "\n",
       "    .dataframe tbody tr th {\n",
       "        vertical-align: top;\n",
       "    }\n",
       "\n",
       "    .dataframe thead th {\n",
       "        text-align: right;\n",
       "    }\n",
       "</style>\n",
       "<table border=\"1\" class=\"dataframe\">\n",
       "  <thead>\n",
       "    <tr style=\"text-align: right;\">\n",
       "      <th></th>\n",
       "      <th>Original Title</th>\n",
       "      <th>DOI</th>\n",
       "      <th>Title on Google Scholar</th>\n",
       "      <th>Citation Link</th>\n",
       "      <th>Citation Counts on Google Scholar</th>\n",
       "    </tr>\n",
       "  </thead>\n",
       "  <tbody>\n",
       "    <tr>\n",
       "      <th>0</th>\n",
       "      <td>The Impact of Social Issue Television Programm...</td>\n",
       "      <td>10.1111/j.1468-2958.1992.tb00299.x</td>\n",
       "      <td>The impact of social issue television programm...</td>\n",
       "      <td>https://scholar.google.com/scholar?cites=52148...</td>\n",
       "      <td>73</td>\n",
       "    </tr>\n",
       "    <tr>\n",
       "      <th>1</th>\n",
       "      <td>Rethinking Political Communication in a Time o...</td>\n",
       "      <td>10.1093/joc/jqx017</td>\n",
       "      <td>Rethinking political communication in a time o...</td>\n",
       "      <td>https://scholar.google.com/scholar?cites=16678...</td>\n",
       "      <td>406</td>\n",
       "    </tr>\n",
       "    <tr>\n",
       "      <th>2</th>\n",
       "      <td>Coding Verbal Conflict Tactics: Nonverbal and ...</td>\n",
       "      <td>10.1111/j.1468-2958.1982.tb00685.x</td>\n",
       "      <td>Coding verbal conflict tactics: Nonverbal and ...</td>\n",
       "      <td>https://scholar.google.com/scholar?cites=90218...</td>\n",
       "      <td>303</td>\n",
       "    </tr>\n",
       "    <tr>\n",
       "      <th>3</th>\n",
       "      <td>Anticipated Interaction and Information Seeking</td>\n",
       "      <td>10.1111/j.1468-2958.1985.tb00075.x</td>\n",
       "      <td>Anticipated interaction and information seeking</td>\n",
       "      <td>https://scholar.google.com/scholar?cites=16874...</td>\n",
       "      <td>21</td>\n",
       "    </tr>\n",
       "    <tr>\n",
       "      <th>4</th>\n",
       "      <td>Mapping the Variety of Public Spheres</td>\n",
       "      <td>10.1111/j.1468-2885.2011.01379.x</td>\n",
       "      <td>Mapping the variety of public spheres</td>\n",
       "      <td>https://scholar.google.com/scholar?cites=16913...</td>\n",
       "      <td>113</td>\n",
       "    </tr>\n",
       "    <tr>\n",
       "      <th>5</th>\n",
       "      <td>First Things First: Internet Relay Chat Openings</td>\n",
       "      <td>10.1111/j.1083-6101.2001.tb00125.x</td>\n",
       "      <td>First things first: Internet relay chat openings</td>\n",
       "      <td>https://scholar.google.com/scholar?cites=14780...</td>\n",
       "      <td>151</td>\n",
       "    </tr>\n",
       "    <tr>\n",
       "      <th>6</th>\n",
       "      <td>Homophily of Network Ties and Bonding and Brid...</td>\n",
       "      <td>10.1111/j.1083-6101.2006.00308.x</td>\n",
       "      <td>Homophily of network ties and bonding and brid...</td>\n",
       "      <td>https://scholar.google.com/scholar?cites=82274...</td>\n",
       "      <td>301</td>\n",
       "    </tr>\n",
       "    <tr>\n",
       "      <th>7</th>\n",
       "      <td>Rumors, Hatred, and the Politics of Multicultu...</td>\n",
       "      <td>10.1111/cccr.12174</td>\n",
       "      <td>Rumors, Hatred, and the Politics of Multicultu...</td>\n",
       "      <td>https://scholar.google.com/scholar?cites=33782...</td>\n",
       "      <td>2</td>\n",
       "    </tr>\n",
       "    <tr>\n",
       "      <th>8</th>\n",
       "      <td>Arguments for and against Competition in Inter...</td>\n",
       "      <td>10.1111/j.1460-2466.1985.tb02447.x</td>\n",
       "      <td>[CITATION] Arguments for and against competiti...</td>\n",
       "      <td>https://scholar.google.com/scholar?cites=13099...</td>\n",
       "      <td>13</td>\n",
       "    </tr>\n",
       "    <tr>\n",
       "      <th>9</th>\n",
       "      <td>The Social Affordances of the Internet for Net...</td>\n",
       "      <td>10.1111/j.1083-6101.2003.tb00216.x</td>\n",
       "      <td>The social affordances of the Internet for net...</td>\n",
       "      <td>https://scholar.google.com/scholar?cites=15415...</td>\n",
       "      <td>1224</td>\n",
       "    </tr>\n",
       "  </tbody>\n",
       "</table>\n",
       "</div>"
      ],
      "text/plain": [
       "                                      Original Title  \\\n",
       "0  The Impact of Social Issue Television Programm...   \n",
       "1  Rethinking Political Communication in a Time o...   \n",
       "2  Coding Verbal Conflict Tactics: Nonverbal and ...   \n",
       "3    Anticipated Interaction and Information Seeking   \n",
       "4              Mapping the Variety of Public Spheres   \n",
       "5   First Things First: Internet Relay Chat Openings   \n",
       "6  Homophily of Network Ties and Bonding and Brid...   \n",
       "7  Rumors, Hatred, and the Politics of Multicultu...   \n",
       "8  Arguments for and against Competition in Inter...   \n",
       "9  The Social Affordances of the Internet for Net...   \n",
       "\n",
       "                                  DOI  \\\n",
       "0  10.1111/j.1468-2958.1992.tb00299.x   \n",
       "1                  10.1093/joc/jqx017   \n",
       "2  10.1111/j.1468-2958.1982.tb00685.x   \n",
       "3  10.1111/j.1468-2958.1985.tb00075.x   \n",
       "4    10.1111/j.1468-2885.2011.01379.x   \n",
       "5  10.1111/j.1083-6101.2001.tb00125.x   \n",
       "6    10.1111/j.1083-6101.2006.00308.x   \n",
       "7                  10.1111/cccr.12174   \n",
       "8  10.1111/j.1460-2466.1985.tb02447.x   \n",
       "9  10.1111/j.1083-6101.2003.tb00216.x   \n",
       "\n",
       "                             Title on Google Scholar  \\\n",
       "0  The impact of social issue television programm...   \n",
       "1  Rethinking political communication in a time o...   \n",
       "2  Coding verbal conflict tactics: Nonverbal and ...   \n",
       "3    Anticipated interaction and information seeking   \n",
       "4              Mapping the variety of public spheres   \n",
       "5   First things first: Internet relay chat openings   \n",
       "6  Homophily of network ties and bonding and brid...   \n",
       "7  Rumors, Hatred, and the Politics of Multicultu...   \n",
       "8  [CITATION] Arguments for and against competiti...   \n",
       "9  The social affordances of the Internet for net...   \n",
       "\n",
       "                                       Citation Link  \\\n",
       "0  https://scholar.google.com/scholar?cites=52148...   \n",
       "1  https://scholar.google.com/scholar?cites=16678...   \n",
       "2  https://scholar.google.com/scholar?cites=90218...   \n",
       "3  https://scholar.google.com/scholar?cites=16874...   \n",
       "4  https://scholar.google.com/scholar?cites=16913...   \n",
       "5  https://scholar.google.com/scholar?cites=14780...   \n",
       "6  https://scholar.google.com/scholar?cites=82274...   \n",
       "7  https://scholar.google.com/scholar?cites=33782...   \n",
       "8  https://scholar.google.com/scholar?cites=13099...   \n",
       "9  https://scholar.google.com/scholar?cites=15415...   \n",
       "\n",
       "   Citation Counts on Google Scholar  \n",
       "0                                 73  \n",
       "1                                406  \n",
       "2                                303  \n",
       "3                                 21  \n",
       "4                                113  \n",
       "5                                151  \n",
       "6                                301  \n",
       "7                                  2  \n",
       "8                                 13  \n",
       "9                               1224  "
      ]
     },
     "execution_count": 75,
     "metadata": {},
     "output_type": "execute_result"
    }
   ],
   "source": [
    "pd.DataFrame(gscholar_dict_list)"
   ]
  },
  {
   "cell_type": "code",
   "execution_count": 30,
   "id": "5383362f",
   "metadata": {},
   "outputs": [
    {
     "data": {
      "text/plain": [
       "'Human Intercommunication as a Unified Area for Research, Journal of Communication, Elwood Murray'"
      ]
     },
     "execution_count": 30,
     "metadata": {},
     "output_type": "execute_result"
    }
   ],
   "source": [
    "random_papers[-2]"
   ]
  },
  {
   "cell_type": "code",
   "execution_count": null,
   "id": "fa74ae47",
   "metadata": {},
   "outputs": [],
   "source": []
  }
 ],
 "metadata": {
  "kernelspec": {
   "display_name": "Python 3 (ipykernel)",
   "language": "python",
   "name": "python3"
  },
  "language_info": {
   "codemirror_mode": {
    "name": "ipython",
    "version": 3
   },
   "file_extension": ".py",
   "mimetype": "text/x-python",
   "name": "python",
   "nbconvert_exporter": "python",
   "pygments_lexer": "ipython3",
   "version": "3.9.15"
  }
 },
 "nbformat": 4,
 "nbformat_minor": 5
}
