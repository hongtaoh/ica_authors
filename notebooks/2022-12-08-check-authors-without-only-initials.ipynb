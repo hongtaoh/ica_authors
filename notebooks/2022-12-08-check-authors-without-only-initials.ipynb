{
 "cells": [
  {
   "cell_type": "markdown",
   "id": "031f72ab",
   "metadata": {},
   "source": [
    "## AIM\n",
    "\n",
    "With this notebook, I aim to \n",
    " - Find authors without full name\n",
    " - find authors with first names being initials"
   ]
  },
  {
   "cell_type": "code",
   "execution_count": 1,
   "id": "0849a0d9",
   "metadata": {},
   "outputs": [],
   "source": [
    "import pandas as pd\n",
    "from collections import Counter\n",
    "import numpy as np"
   ]
  },
  {
   "cell_type": "code",
   "execution_count": 2,
   "id": "8f17c1ee",
   "metadata": {},
   "outputs": [],
   "source": [
    "# df1 = pd.read_csv('../data/processed/author_with_pred.csv')\n",
    "# df1[(df1.firstName.isnull()) | (df1.lastName.isnull())].doi"
   ]
  },
  {
   "cell_type": "code",
   "execution_count": 3,
   "id": "920890e2",
   "metadata": {},
   "outputs": [],
   "source": [
    "df = pd.read_csv('../data/processed/authors_to_study.csv')"
   ]
  },
  {
   "cell_type": "code",
   "execution_count": 4,
   "id": "a2b5149b",
   "metadata": {},
   "outputs": [
    {
     "data": {
      "text/html": [
       "<div>\n",
       "<style scoped>\n",
       "    .dataframe tbody tr th:only-of-type {\n",
       "        vertical-align: middle;\n",
       "    }\n",
       "\n",
       "    .dataframe tbody tr th {\n",
       "        vertical-align: top;\n",
       "    }\n",
       "\n",
       "    .dataframe thead th {\n",
       "        text-align: right;\n",
       "    }\n",
       "</style>\n",
       "<table border=\"1\" class=\"dataframe\">\n",
       "  <thead>\n",
       "    <tr style=\"text-align: right;\">\n",
       "      <th></th>\n",
       "      <th>authorID</th>\n",
       "      <th>doi</th>\n",
       "      <th>url</th>\n",
       "      <th>year</th>\n",
       "      <th>title</th>\n",
       "      <th>journal</th>\n",
       "      <th>numberOfAuthors</th>\n",
       "      <th>authorPosition</th>\n",
       "      <th>authorFullName</th>\n",
       "      <th>firstName</th>\n",
       "      <th>...</th>\n",
       "      <th>white</th>\n",
       "      <th>raceHighest</th>\n",
       "      <th>raceSecondHighest</th>\n",
       "      <th>raceDiff</th>\n",
       "      <th>affProcessed</th>\n",
       "      <th>affiliation.2</th>\n",
       "      <th>ROR_AFFNAME</th>\n",
       "      <th>matchMethod</th>\n",
       "      <th>ROR_ID</th>\n",
       "      <th>type</th>\n",
       "    </tr>\n",
       "  </thead>\n",
       "  <tbody>\n",
       "    <tr>\n",
       "      <th>3612</th>\n",
       "      <td>10.1111/j.1460-2466.1980.tb02015.x+2.0</td>\n",
       "      <td>10.1111/j.1460-2466.1980.tb02015.x</td>\n",
       "      <td>https://academic.oup.com/joc/article/30/4/50/4...</td>\n",
       "      <td>1980</td>\n",
       "      <td>Programming for Development in Indonesia</td>\n",
       "      <td>Journal of Communication</td>\n",
       "      <td>2.0</td>\n",
       "      <td>2.0</td>\n",
       "      <td>Alfian</td>\n",
       "      <td>NaN</td>\n",
       "      <td>...</td>\n",
       "      <td>0.220853</td>\n",
       "      <td>0.684015</td>\n",
       "      <td>0.220853</td>\n",
       "      <td>0.463161</td>\n",
       "      <td>national institute of economic and social rese...</td>\n",
       "      <td>2 National Institute of Economic and Social Re...</td>\n",
       "      <td>National Institute of Economic and Social Rese...</td>\n",
       "      <td>Exact</td>\n",
       "      <td>https://ror.org/048m81442</td>\n",
       "      <td>R</td>\n",
       "    </tr>\n",
       "  </tbody>\n",
       "</table>\n",
       "<p>1 rows × 39 columns</p>\n",
       "</div>"
      ],
      "text/plain": [
       "                                    authorID  \\\n",
       "3612  10.1111/j.1460-2466.1980.tb02015.x+2.0   \n",
       "\n",
       "                                     doi  \\\n",
       "3612  10.1111/j.1460-2466.1980.tb02015.x   \n",
       "\n",
       "                                                    url  year  \\\n",
       "3612  https://academic.oup.com/joc/article/30/4/50/4...  1980   \n",
       "\n",
       "                                         title                   journal  \\\n",
       "3612  Programming for Development in Indonesia  Journal of Communication   \n",
       "\n",
       "      numberOfAuthors  authorPosition authorFullName firstName  ...     white  \\\n",
       "3612              2.0             2.0         Alfian       NaN  ...  0.220853   \n",
       "\n",
       "     raceHighest raceSecondHighest  raceDiff  \\\n",
       "3612    0.684015          0.220853  0.463161   \n",
       "\n",
       "                                           affProcessed  \\\n",
       "3612  national institute of economic and social rese...   \n",
       "\n",
       "                                          affiliation.2  \\\n",
       "3612  2 National Institute of Economic and Social Re...   \n",
       "\n",
       "                                            ROR_AFFNAME matchMethod  \\\n",
       "3612  National Institute of Economic and Social Rese...       Exact   \n",
       "\n",
       "                         ROR_ID type  \n",
       "3612  https://ror.org/048m81442    R  \n",
       "\n",
       "[1 rows x 39 columns]"
      ]
     },
     "execution_count": 4,
     "metadata": {},
     "output_type": "execute_result"
    }
   ],
   "source": [
    "df[(df.firstName.isnull()) | (df.lastName.isnull())]"
   ]
  },
  {
   "cell_type": "markdown",
   "id": "540636f7",
   "metadata": {},
   "source": [
    "There is only one person whose name is not complete. "
   ]
  },
  {
   "cell_type": "code",
   "execution_count": 5,
   "id": "387fc117",
   "metadata": {},
   "outputs": [],
   "source": [
    "df = df[(df.firstName.notnull()) & (df.lastName.notnull())]"
   ]
  },
  {
   "cell_type": "code",
   "execution_count": 95,
   "id": "5558e95d",
   "metadata": {},
   "outputs": [],
   "source": [
    "df['firstNameLength'] = df.apply(lambda row: len(row.firstName), axis = 1)"
   ]
  },
  {
   "cell_type": "code",
   "execution_count": 102,
   "id": "e92bda92",
   "metadata": {},
   "outputs": [
    {
     "data": {
      "text/html": [
       "<div>\n",
       "<style scoped>\n",
       "    .dataframe tbody tr th:only-of-type {\n",
       "        vertical-align: middle;\n",
       "    }\n",
       "\n",
       "    .dataframe tbody tr th {\n",
       "        vertical-align: top;\n",
       "    }\n",
       "\n",
       "    .dataframe thead th {\n",
       "        text-align: right;\n",
       "    }\n",
       "</style>\n",
       "<table border=\"1\" class=\"dataframe\">\n",
       "  <thead>\n",
       "    <tr style=\"text-align: right;\">\n",
       "      <th></th>\n",
       "      <th>authorID</th>\n",
       "      <th>doi</th>\n",
       "      <th>url</th>\n",
       "      <th>year</th>\n",
       "      <th>title</th>\n",
       "      <th>journal</th>\n",
       "      <th>numberOfAuthors</th>\n",
       "      <th>authorPosition</th>\n",
       "      <th>authorFullName</th>\n",
       "      <th>firstName</th>\n",
       "      <th>...</th>\n",
       "      <th>raceHighest</th>\n",
       "      <th>raceSecondHighest</th>\n",
       "      <th>raceDiff</th>\n",
       "      <th>affProcessed</th>\n",
       "      <th>affiliation.2</th>\n",
       "      <th>ROR_AFFNAME</th>\n",
       "      <th>matchMethod</th>\n",
       "      <th>ROR_ID</th>\n",
       "      <th>type</th>\n",
       "      <th>firstNameLength</th>\n",
       "    </tr>\n",
       "  </thead>\n",
       "  <tbody>\n",
       "    <tr>\n",
       "      <th>5735</th>\n",
       "      <td>10.1111/j.1468-2958.2010.01392.x+1.0</td>\n",
       "      <td>10.1111/j.1468-2958.2010.01392.x</td>\n",
       "      <td>https://academic.oup.com/hcr/article/37/1/34/4...</td>\n",
       "      <td>2011</td>\n",
       "      <td>An Online Process Model of Second-Order Cultiv...</td>\n",
       "      <td>Human Communication Research</td>\n",
       "      <td>4.0</td>\n",
       "      <td>1.0</td>\n",
       "      <td>L. J. Shrum</td>\n",
       "      <td>L.</td>\n",
       "      <td>...</td>\n",
       "      <td>0.889826</td>\n",
       "      <td>0.060513</td>\n",
       "      <td>0.829313</td>\n",
       "      <td>department of marketing university of texas at...</td>\n",
       "      <td>1 Department of Marketing, University of Texas...</td>\n",
       "      <td>The University of Texas at San Antonio</td>\n",
       "      <td>API_QUERY</td>\n",
       "      <td>https://ror.org/01kd65564</td>\n",
       "      <td>R</td>\n",
       "      <td>2</td>\n",
       "    </tr>\n",
       "    <tr>\n",
       "      <th>4761</th>\n",
       "      <td>10.1111/j.1460-2466.1962.tb01529.x+2.0</td>\n",
       "      <td>10.1111/j.1460-2466.1962.tb01529.x</td>\n",
       "      <td>https://academic.oup.com/joc/article/12/2/90/4...</td>\n",
       "      <td>1962</td>\n",
       "      <td>An Attempt to Quantify the “Abstraction Ladder”</td>\n",
       "      <td>Journal of Communication</td>\n",
       "      <td>3.0</td>\n",
       "      <td>2.0</td>\n",
       "      <td>W. W. Lewis</td>\n",
       "      <td>W.</td>\n",
       "      <td>...</td>\n",
       "      <td>0.530614</td>\n",
       "      <td>0.440635</td>\n",
       "      <td>0.089979</td>\n",
       "      <td>dr lewis is temporarily chief assessment branc...</td>\n",
       "      <td>2 Dr. Lewis is temporarily Chief Assessment Br...</td>\n",
       "      <td>The New Teacher Project</td>\n",
       "      <td>API_QUERY</td>\n",
       "      <td>https://ror.org/04p9zhq85</td>\n",
       "      <td>R</td>\n",
       "      <td>2</td>\n",
       "    </tr>\n",
       "    <tr>\n",
       "      <th>4820</th>\n",
       "      <td>10.1111/j.1460-2466.1959.tb00314.x+1.0</td>\n",
       "      <td>10.1111/j.1460-2466.1959.tb00314.x</td>\n",
       "      <td>https://academic.oup.com/joc/article/9/4/168/4...</td>\n",
       "      <td>1959</td>\n",
       "      <td>The Three Eras of Management Communication</td>\n",
       "      <td>Journal of Communication</td>\n",
       "      <td>1.0</td>\n",
       "      <td>1.0</td>\n",
       "      <td>C. J. Dover</td>\n",
       "      <td>C.</td>\n",
       "      <td>...</td>\n",
       "      <td>0.870849</td>\n",
       "      <td>0.087192</td>\n",
       "      <td>0.783657</td>\n",
       "      <td>mr dover is a consultant in communication and ...</td>\n",
       "      <td>1 Mr. Dover is a consultant in communication a...</td>\n",
       "      <td>Łukasiewicz Research Network - Institute of We...</td>\n",
       "      <td>API_QUERY</td>\n",
       "      <td>https://ror.org/05xx8bb48</td>\n",
       "      <td>R</td>\n",
       "      <td>2</td>\n",
       "    </tr>\n",
       "  </tbody>\n",
       "</table>\n",
       "<p>3 rows × 40 columns</p>\n",
       "</div>"
      ],
      "text/plain": [
       "                                    authorID  \\\n",
       "5735    10.1111/j.1468-2958.2010.01392.x+1.0   \n",
       "4761  10.1111/j.1460-2466.1962.tb01529.x+2.0   \n",
       "4820  10.1111/j.1460-2466.1959.tb00314.x+1.0   \n",
       "\n",
       "                                     doi  \\\n",
       "5735    10.1111/j.1468-2958.2010.01392.x   \n",
       "4761  10.1111/j.1460-2466.1962.tb01529.x   \n",
       "4820  10.1111/j.1460-2466.1959.tb00314.x   \n",
       "\n",
       "                                                    url  year  \\\n",
       "5735  https://academic.oup.com/hcr/article/37/1/34/4...  2011   \n",
       "4761  https://academic.oup.com/joc/article/12/2/90/4...  1962   \n",
       "4820  https://academic.oup.com/joc/article/9/4/168/4...  1959   \n",
       "\n",
       "                                                  title  \\\n",
       "5735  An Online Process Model of Second-Order Cultiv...   \n",
       "4761    An Attempt to Quantify the “Abstraction Ladder”   \n",
       "4820         The Three Eras of Management Communication   \n",
       "\n",
       "                           journal  numberOfAuthors  authorPosition  \\\n",
       "5735  Human Communication Research              4.0             1.0   \n",
       "4761      Journal of Communication              3.0             2.0   \n",
       "4820      Journal of Communication              1.0             1.0   \n",
       "\n",
       "     authorFullName firstName  ... raceHighest raceSecondHighest  raceDiff  \\\n",
       "5735    L. J. Shrum        L.  ...    0.889826          0.060513  0.829313   \n",
       "4761    W. W. Lewis        W.  ...    0.530614          0.440635  0.089979   \n",
       "4820    C. J. Dover        C.  ...    0.870849          0.087192  0.783657   \n",
       "\n",
       "                                           affProcessed  \\\n",
       "5735  department of marketing university of texas at...   \n",
       "4761  dr lewis is temporarily chief assessment branc...   \n",
       "4820  mr dover is a consultant in communication and ...   \n",
       "\n",
       "                                          affiliation.2  \\\n",
       "5735  1 Department of Marketing, University of Texas...   \n",
       "4761  2 Dr. Lewis is temporarily Chief Assessment Br...   \n",
       "4820  1 Mr. Dover is a consultant in communication a...   \n",
       "\n",
       "                                            ROR_AFFNAME  matchMethod  \\\n",
       "5735             The University of Texas at San Antonio    API_QUERY   \n",
       "4761                            The New Teacher Project    API_QUERY   \n",
       "4820  Łukasiewicz Research Network - Institute of We...    API_QUERY   \n",
       "\n",
       "                         ROR_ID type firstNameLength  \n",
       "5735  https://ror.org/01kd65564    R               2  \n",
       "4761  https://ror.org/04p9zhq85    R               2  \n",
       "4820  https://ror.org/05xx8bb48    R               2  \n",
       "\n",
       "[3 rows x 40 columns]"
      ]
     },
     "execution_count": 102,
     "metadata": {},
     "output_type": "execute_result"
    }
   ],
   "source": [
    "two_df = df[(df.firstName.str.contains('.', regex = False)) & (df.firstNameLength == 2)]\n",
    "two_df.sample(3)"
   ]
  },
  {
   "cell_type": "code",
   "execution_count": 103,
   "id": "62966009",
   "metadata": {},
   "outputs": [],
   "source": [
    "two_df_doi = two_df.doi.tolist()"
   ]
  },
  {
   "cell_type": "code",
   "execution_count": 104,
   "id": "71244f90",
   "metadata": {},
   "outputs": [],
   "source": [
    "one_df_doi = df[df.firstNameLength == 1].doi.tolist()"
   ]
  },
  {
   "cell_type": "code",
   "execution_count": 107,
   "id": "25ce0a65",
   "metadata": {},
   "outputs": [
    {
     "data": {
      "text/plain": [
       "70"
      ]
     },
     "execution_count": 107,
     "metadata": {},
     "output_type": "execute_result"
    }
   ],
   "source": [
    "to_remove_dois = list(set(two_df_doi + one_df_doi))\n",
    "len(dois)"
   ]
  },
  {
   "cell_type": "code",
   "execution_count": 109,
   "id": "051c37f5",
   "metadata": {},
   "outputs": [
    {
     "data": {
      "text/plain": [
       "(157, 40)"
      ]
     },
     "execution_count": 109,
     "metadata": {},
     "output_type": "execute_result"
    }
   ],
   "source": [
    "df[df.doi.isin(to_remove_dois)].shape"
   ]
  },
  {
   "cell_type": "code",
   "execution_count": 111,
   "id": "90b04613",
   "metadata": {},
   "outputs": [
    {
     "data": {
      "text/plain": [
       "Counter({2018: 3,\n",
       "         2014: 4,\n",
       "         2013: 8,\n",
       "         2006: 2,\n",
       "         2002: 6,\n",
       "         1987: 3,\n",
       "         1985: 3,\n",
       "         1982: 4,\n",
       "         1981: 5,\n",
       "         1980: 1,\n",
       "         1979: 4,\n",
       "         1978: 8,\n",
       "         1977: 9,\n",
       "         1976: 2,\n",
       "         1975: 1,\n",
       "         1972: 2,\n",
       "         1970: 1,\n",
       "         1968: 6,\n",
       "         1963: 2,\n",
       "         1962: 4,\n",
       "         1961: 3,\n",
       "         1960: 1,\n",
       "         1959: 1,\n",
       "         1958: 1,\n",
       "         1956: 1,\n",
       "         1955: 1,\n",
       "         1952: 2,\n",
       "         1951: 4,\n",
       "         2021: 3,\n",
       "         2016: 3,\n",
       "         2011: 6,\n",
       "         2007: 3,\n",
       "         2001: 3,\n",
       "         1997: 4,\n",
       "         1996: 1,\n",
       "         1990: 3,\n",
       "         1989: 2,\n",
       "         1988: 4,\n",
       "         1999: 1,\n",
       "         2020: 11,\n",
       "         2010: 3,\n",
       "         2009: 11,\n",
       "         2005: 5,\n",
       "         2022: 2})"
      ]
     },
     "execution_count": 111,
     "metadata": {},
     "output_type": "execute_result"
    }
   ],
   "source": [
    "Counter(df[df.doi.isin(to_remove_dois)].year)"
   ]
  },
  {
   "cell_type": "code",
   "execution_count": null,
   "id": "0ce92c33",
   "metadata": {},
   "outputs": [],
   "source": []
  }
 ],
 "metadata": {
  "kernelspec": {
   "display_name": "Python 3 (ipykernel)",
   "language": "python",
   "name": "python3"
  },
  "language_info": {
   "codemirror_mode": {
    "name": "ipython",
    "version": 3
   },
   "file_extension": ".py",
   "mimetype": "text/x-python",
   "name": "python",
   "nbconvert_exporter": "python",
   "pygments_lexer": "ipython3",
   "version": "3.8.13"
  }
 },
 "nbformat": 4,
 "nbformat_minor": 5
}
