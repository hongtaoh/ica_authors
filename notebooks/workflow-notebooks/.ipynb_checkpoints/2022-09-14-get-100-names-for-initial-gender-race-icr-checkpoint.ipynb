{
 "cells": [
  {
   "cell_type": "code",
   "execution_count": 31,
   "id": "90101f35",
   "metadata": {},
   "outputs": [],
   "source": [
    "import pandas as pd"
   ]
  },
  {
   "cell_type": "code",
   "execution_count": 32,
   "id": "49a07673",
   "metadata": {},
   "outputs": [
    {
     "data": {
      "text/plain": [
       "(11476, 39)"
      ]
     },
     "execution_count": 32,
     "metadata": {},
     "output_type": "execute_result"
    }
   ],
   "source": [
    "df = pd.read_csv('../../data/processed/research_author_with_pred.csv')\n",
    "df.shape"
   ]
  },
  {
   "cell_type": "code",
   "execution_count": 33,
   "id": "b458d7e8",
   "metadata": {},
   "outputs": [],
   "source": [
    "df['gender_prediction'] = ''\n",
    "df['race_prediction'] = ''"
   ]
  },
  {
   "cell_type": "code",
   "execution_count": 34,
   "id": "166be1ce",
   "metadata": {},
   "outputs": [],
   "source": [
    "random_100 = df.sample(100, random_state = 2202)"
   ]
  },
  {
   "cell_type": "code",
   "execution_count": 35,
   "id": "560a5724",
   "metadata": {},
   "outputs": [],
   "source": [
    "random_100.to_csv('../../data/interim/icr/2022-09-14-race-gender-initial-icr-100names.csv', index=False)"
   ]
  },
  {
   "cell_type": "code",
   "execution_count": 36,
   "id": "6e563cf6",
   "metadata": {},
   "outputs": [
    {
     "data": {
      "text/plain": [
       "(100, 41)"
      ]
     },
     "execution_count": 36,
     "metadata": {},
     "output_type": "execute_result"
    }
   ],
   "source": [
    "random_100.shape"
   ]
  }
 ],
 "metadata": {
  "kernelspec": {
   "display_name": "Python 3 (ipykernel)",
   "language": "python",
   "name": "python3"
  },
  "language_info": {
   "codemirror_mode": {
    "name": "ipython",
    "version": 3
   },
   "file_extension": ".py",
   "mimetype": "text/x-python",
   "name": "python",
   "nbconvert_exporter": "python",
   "pygments_lexer": "ipython3",
   "version": "3.8.13"
  }
 },
 "nbformat": 4,
 "nbformat_minor": 5
}
