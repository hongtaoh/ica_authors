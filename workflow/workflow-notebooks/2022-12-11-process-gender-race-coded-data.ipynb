{
 "cells": [
  {
   "cell_type": "markdown",
   "id": "14c7eb04",
   "metadata": {},
   "source": [
    "## Aim\n",
    "\n",
    "Process the gender and race coded data. \n",
    "\n",
    "Later, codes here became part of `get_authorid_with_vars.py`"
   ]
  },
  {
   "cell_type": "code",
   "execution_count": 178,
   "id": "e0cf26b1",
   "metadata": {},
   "outputs": [],
   "source": [
    "import pandas as pd\n",
    "import numpy as np\n",
    "pd.set_option('display.max_rows', 500)\n",
    "pd.set_option('display.max_columns', None)\n",
    "pd.set_option('display.max_colwidth', None)\n",
    "import seaborn as sns\n",
    "import matplotlib.pyplot as plt\n",
    "from collections import Counter"
   ]
  },
  {
   "cell_type": "code",
   "execution_count": 179,
   "id": "d6d738a0",
   "metadata": {},
   "outputs": [],
   "source": [
    "# names = ['haley', 'jongmin', 'jaemin', 'jeff', 'matthew', 'michelle']\n",
    "names = ['haley', 'jaemin', 'matthew', 'michelle']\n",
    "data_dir = '../../data/interim/gender_race_result'"
   ]
  },
  {
   "cell_type": "code",
   "execution_count": 180,
   "id": "788e1945",
   "metadata": {},
   "outputs": [],
   "source": [
    "haley = pd.read_csv(f'{data_dir}/haley.csv')\n",
    "haley['Coder'] = 'Haley'\n",
    "matthew = pd.read_csv(f'{data_dir}/matthew.csv')\n",
    "matthew['Coder'] = 'Matthew'\n",
    "michelle = pd.read_csv(f'{data_dir}/michelle.csv')\n",
    "michelle['Coder'] = 'Michelle'\n",
    "# jeff = pd.read_csv(f'{data_dir}/jeff.csv')\n",
    "# jongmin = pd.read_csv(f'{data_dir}/jongmin.csv')\n",
    "jaemin = pd.read_csv(f'{data_dir}/jaemin.csv')\n",
    "jaemin['Coder'] = 'Jaemin'\n",
    "jaemin['gender_prediction'] = jaemin['gender_prediction'].str.replace(' M', 'M')"
   ]
  },
  {
   "cell_type": "code",
   "execution_count": 181,
   "id": "d9ff7621",
   "metadata": {},
   "outputs": [
    {
     "data": {
      "text/plain": [
       "{'F', 'M', 'N'}"
      ]
     },
     "execution_count": 181,
     "metadata": {},
     "output_type": "execute_result"
    }
   ],
   "source": [
    "set(jaemin.gender_prediction)"
   ]
  },
  {
   "cell_type": "markdown",
   "id": "4bddd4c5",
   "metadata": {},
   "source": [
    "## Deal with Haley and Michelle data"
   ]
  },
  {
   "cell_type": "markdown",
   "id": "2644cd64",
   "metadata": {},
   "source": [
    "### Gender"
   ]
  },
  {
   "cell_type": "code",
   "execution_count": 182,
   "id": "4e57b8be",
   "metadata": {},
   "outputs": [
    {
     "data": {
      "text/plain": [
       "{'F', 'M', 'N', nan}"
      ]
     },
     "execution_count": 182,
     "metadata": {},
     "output_type": "execute_result"
    }
   ],
   "source": [
    "# for haley: if genderpred_api is nan, use gender_prediction, otherwise, use genderize result\n",
    "haley_genderpred = np.where(\n",
    "    haley.genderpred_api.isnull(), haley[\"gender_prediction\"], haley.genderize)\n",
    "haley_genderpred[haley_genderpred == 'female'] = 'F'\n",
    "haley_genderpred[haley_genderpred == 'male'] = 'M'\n",
    "set(haley_genderpred)"
   ]
  },
  {
   "cell_type": "code",
   "execution_count": 183,
   "id": "38d02303",
   "metadata": {},
   "outputs": [
    {
     "data": {
      "text/plain": [
       "{'F', 'M', 'N', nan}"
      ]
     },
     "execution_count": 183,
     "metadata": {},
     "output_type": "execute_result"
    }
   ],
   "source": [
    "# for michelle: if genderpred_api is nan, use gender_prediction, otherwise, use genderize result\n",
    "michelle_genderpred = np.where(\n",
    "    michelle.genderpred_api.isnull(), michelle[\"gender_prediction\"], michelle.genderize)\n",
    "michelle_genderpred[michelle_genderpred == 'female'] = 'F'\n",
    "michelle_genderpred[michelle_genderpred == 'male'] = 'M'\n",
    "set(michelle_genderpred)"
   ]
  },
  {
   "cell_type": "code",
   "execution_count": 184,
   "id": "8908537e",
   "metadata": {},
   "outputs": [
    {
     "data": {
      "text/plain": [
       "array([[1594],\n",
       "       [1657]])"
      ]
     },
     "execution_count": 184,
     "metadata": {},
     "output_type": "execute_result"
    }
   ],
   "source": [
    "# there are two nans because haley said to rely on genderize which provides nan\n",
    "np.argwhere(haley_genderpred!=haley_genderpred)"
   ]
  },
  {
   "cell_type": "code",
   "execution_count": 185,
   "id": "159fe113",
   "metadata": {},
   "outputs": [],
   "source": [
    "# haley.iloc[1657, :]"
   ]
  },
  {
   "cell_type": "code",
   "execution_count": 186,
   "id": "bc578da8",
   "metadata": {},
   "outputs": [
    {
     "data": {
      "text/plain": [
       "array([[1586],\n",
       "       [1606]])"
      ]
     },
     "execution_count": 186,
     "metadata": {},
     "output_type": "execute_result"
    }
   ],
   "source": [
    "# there are two nans because michelle said to rely on genderize which provides nan\n",
    "np.argwhere(michelle_genderpred!=michelle_genderpred)"
   ]
  },
  {
   "cell_type": "code",
   "execution_count": 187,
   "id": "6dfcddc0",
   "metadata": {},
   "outputs": [],
   "source": [
    "# michelle.iloc[1606, :]"
   ]
  },
  {
   "cell_type": "markdown",
   "id": "18a1792d",
   "metadata": {},
   "source": [
    "### Race"
   ]
  },
  {
   "cell_type": "code",
   "execution_count": 188,
   "id": "a5165cdb",
   "metadata": {},
   "outputs": [
    {
     "data": {
      "text/plain": [
       "{'api', 'black', 'hispanic', 'white'}"
      ]
     },
     "execution_count": 188,
     "metadata": {},
     "output_type": "execute_result"
    }
   ],
   "source": [
    "set(haley.race)"
   ]
  },
  {
   "cell_type": "code",
   "execution_count": 189,
   "id": "5eb7ee40",
   "metadata": {},
   "outputs": [
    {
     "data": {
      "text/plain": [
       "{0.0, 1.0, 2.0, 3.0, 4.0, 5.0}"
      ]
     },
     "execution_count": 189,
     "metadata": {},
     "output_type": "execute_result"
    }
   ],
   "source": [
    "# for haley: if genderpred_api is nan, use gender_prediction, otherwise, use genderize result\n",
    "haley_racepred = np.where(\n",
    "    haley.racepred_api.isnull(), haley[\"race_prediction\"], haley.race)\n",
    "haley_racepred[haley_racepred == 'api'] = 2\n",
    "haley_racepred[haley_racepred == 'hispanic'] = 3\n",
    "haley_racepred[haley_racepred == 'white'] = 0\n",
    "set(haley_racepred)"
   ]
  },
  {
   "cell_type": "code",
   "execution_count": 190,
   "id": "a0e07a5f",
   "metadata": {},
   "outputs": [
    {
     "data": {
      "text/plain": [
       "{0.0, 1.0, 2.0, 3.0, 4.0, 5.0}"
      ]
     },
     "execution_count": 190,
     "metadata": {},
     "output_type": "execute_result"
    }
   ],
   "source": [
    "# for michelle: if genderpred_api is nan, use gender_prediction, otherwise, use genderize result\n",
    "michelle_racepred = np.where(\n",
    "    michelle.racepred_api.isnull(), michelle[\"race_prediction\"], michelle.race)\n",
    "michelle_racepred[michelle_racepred == 'api'] = 2\n",
    "michelle_racepred[michelle_racepred == 'hispanic'] = 3\n",
    "michelle_racepred[michelle_racepred == 'white'] = 0\n",
    "set(michelle_racepred)"
   ]
  },
  {
   "cell_type": "markdown",
   "id": "b580dda6",
   "metadata": {},
   "source": [
    "### Update data"
   ]
  },
  {
   "cell_type": "code",
   "execution_count": 191,
   "id": "9e382d1d",
   "metadata": {},
   "outputs": [],
   "source": [
    "haley['gender_prediction'] = haley_genderpred\n",
    "michelle['gender_prediction'] = michelle_genderpred\n",
    "haley['race_prediction'] = haley_racepred\n",
    "michelle['race_prediction'] = michelle_racepred"
   ]
  },
  {
   "cell_type": "markdown",
   "id": "07410a4d",
   "metadata": {},
   "source": [
    "## Matthew"
   ]
  },
  {
   "cell_type": "code",
   "execution_count": 192,
   "id": "85c71426",
   "metadata": {},
   "outputs": [
    {
     "data": {
      "text/plain": [
       "Counter({'M': 65, 'F': 42, 'f': 661, 'm': 1112, 'n': 1, nan: 3})"
      ]
     },
     "execution_count": 192,
     "metadata": {},
     "output_type": "execute_result"
    }
   ],
   "source": [
    "Counter(matthew.gender_prediction)"
   ]
  },
  {
   "cell_type": "code",
   "execution_count": 193,
   "id": "4667f109",
   "metadata": {},
   "outputs": [
    {
     "data": {
      "text/plain": [
       "{0, 1, 2, 3, 4, 5}"
      ]
     },
     "execution_count": 193,
     "metadata": {},
     "output_type": "execute_result"
    }
   ],
   "source": [
    "set(matthew.race_prediction)"
   ]
  },
  {
   "cell_type": "markdown",
   "id": "e5ade4c3",
   "metadata": {},
   "source": [
    "## Jaemin"
   ]
  },
  {
   "cell_type": "code",
   "execution_count": 194,
   "id": "de6e41af",
   "metadata": {},
   "outputs": [
    {
     "data": {
      "text/plain": [
       "Counter({'M': 65, 'F': 42, 'f': 661, 'm': 1112, 'n': 1, nan: 3})"
      ]
     },
     "execution_count": 194,
     "metadata": {},
     "output_type": "execute_result"
    }
   ],
   "source": [
    "Counter(matthew.gender_prediction)"
   ]
  },
  {
   "cell_type": "code",
   "execution_count": 195,
   "id": "0427ec5e",
   "metadata": {},
   "outputs": [
    {
     "data": {
      "text/plain": [
       "{0, 1, 2, 3, 4, 5}"
      ]
     },
     "execution_count": 195,
     "metadata": {},
     "output_type": "execute_result"
    }
   ],
   "source": [
    "set(matthew.race_prediction)"
   ]
  },
  {
   "cell_type": "markdown",
   "id": "3a374754",
   "metadata": {},
   "source": [
    "## Organize data"
   ]
  },
  {
   "cell_type": "code",
   "execution_count": 196,
   "id": "e1ebc2af",
   "metadata": {},
   "outputs": [
    {
     "data": {
      "text/plain": [
       "({'F', 'M', 'N', nan}, {0.0, 1.0, 2.0, 3.0, 4.0, 5.0})"
      ]
     },
     "execution_count": 196,
     "metadata": {},
     "output_type": "execute_result"
    }
   ],
   "source": [
    "haley = haley[['Coder', 'firstName', 'genderize', 'authorID', 'doi', 'gender_prediction', 'race_prediction']]\n",
    "set(haley.gender_prediction), set(haley.race_prediction)"
   ]
  },
  {
   "cell_type": "code",
   "execution_count": 197,
   "id": "a742a778",
   "metadata": {},
   "outputs": [
    {
     "data": {
      "text/plain": [
       "({'F', 'M', 'f', 'm', 'n', nan}, {0, 1, 2, 3, 4, 5})"
      ]
     },
     "execution_count": 197,
     "metadata": {},
     "output_type": "execute_result"
    }
   ],
   "source": [
    "matthew = matthew[['Coder', 'firstName', 'genderize', 'authorID', 'doi', 'gender_prediction', 'race_prediction']]\n",
    "set(matthew.gender_prediction), set(matthew.race_prediction)"
   ]
  },
  {
   "cell_type": "code",
   "execution_count": 198,
   "id": "001defcd",
   "metadata": {},
   "outputs": [
    {
     "data": {
      "text/plain": [
       "({'F', 'M', 'N', nan}, {0.0, 1.0, 2.0, 3.0, 4.0, 5.0})"
      ]
     },
     "execution_count": 198,
     "metadata": {},
     "output_type": "execute_result"
    }
   ],
   "source": [
    "michelle = michelle[['Coder', 'firstName', 'genderize', 'authorID', 'doi', 'gender_prediction', 'race_prediction']]\n",
    "set(michelle.gender_prediction), set(michelle.race_prediction)"
   ]
  },
  {
   "cell_type": "code",
   "execution_count": 199,
   "id": "068eb9e8",
   "metadata": {},
   "outputs": [
    {
     "data": {
      "text/plain": [
       "({'F', 'M', 'N'}, {0, 1, 2, 3, 4, 5})"
      ]
     },
     "execution_count": 199,
     "metadata": {},
     "output_type": "execute_result"
    }
   ],
   "source": [
    "jaemin = jaemin[['Coder', 'firstName', 'genderize', 'authorID', 'doi', 'gender_prediction', 'race_prediction']]\n",
    "set(jaemin.gender_prediction), set(jaemin.race_prediction)"
   ]
  },
  {
   "cell_type": "code",
   "execution_count": 200,
   "id": "66753ba2",
   "metadata": {},
   "outputs": [
    {
     "data": {
      "text/html": [
       "<div>\n",
       "<style scoped>\n",
       "    .dataframe tbody tr th:only-of-type {\n",
       "        vertical-align: middle;\n",
       "    }\n",
       "\n",
       "    .dataframe tbody tr th {\n",
       "        vertical-align: top;\n",
       "    }\n",
       "\n",
       "    .dataframe thead th {\n",
       "        text-align: right;\n",
       "    }\n",
       "</style>\n",
       "<table border=\"1\" class=\"dataframe\">\n",
       "  <thead>\n",
       "    <tr style=\"text-align: right;\">\n",
       "      <th></th>\n",
       "      <th>Coder</th>\n",
       "      <th>firstName</th>\n",
       "      <th>genderize</th>\n",
       "      <th>authorID</th>\n",
       "      <th>doi</th>\n",
       "      <th>gender_prediction</th>\n",
       "      <th>race_prediction</th>\n",
       "    </tr>\n",
       "  </thead>\n",
       "  <tbody>\n",
       "    <tr>\n",
       "      <th>5627</th>\n",
       "      <td>Matthew</td>\n",
       "      <td>Marvin</td>\n",
       "      <td>male</td>\n",
       "      <td>10.1111/j.1460-2466.1957.tb00249.x+1.0</td>\n",
       "      <td>10.1111/j.1460-2466.1957.tb00249.x</td>\n",
       "      <td>M</td>\n",
       "      <td>0</td>\n",
       "    </tr>\n",
       "    <tr>\n",
       "      <th>491</th>\n",
       "      <td>Haley</td>\n",
       "      <td>Nancy</td>\n",
       "      <td>female</td>\n",
       "      <td>10.1111/j.1753-9137.2012.01145.x+1.0</td>\n",
       "      <td>10.1111/j.1753-9137.2012.01145.x</td>\n",
       "      <td>F</td>\n",
       "      <td>0.0</td>\n",
       "    </tr>\n",
       "    <tr>\n",
       "      <th>3632</th>\n",
       "      <td>Michelle</td>\n",
       "      <td>Thomas</td>\n",
       "      <td>male</td>\n",
       "      <td>10.1111/j.1460-2466.1976.tb01395.x+1.0</td>\n",
       "      <td>10.1111/j.1460-2466.1976.tb01395.x</td>\n",
       "      <td>M</td>\n",
       "      <td>0.0</td>\n",
       "    </tr>\n",
       "    <tr>\n",
       "      <th>2983</th>\n",
       "      <td>Michelle</td>\n",
       "      <td>Judee</td>\n",
       "      <td>female</td>\n",
       "      <td>10.1111/j.1460-2466.2002.tb02567.x+1.0</td>\n",
       "      <td>10.1111/j.1460-2466.2002.tb02567.x</td>\n",
       "      <td>F</td>\n",
       "      <td>0.0</td>\n",
       "    </tr>\n",
       "    <tr>\n",
       "      <th>6329</th>\n",
       "      <td>Jaemin</td>\n",
       "      <td>Howard</td>\n",
       "      <td>male</td>\n",
       "      <td>10.1111/j.1083-6101.2011.01541.x+3.0</td>\n",
       "      <td>10.1111/j.1083-6101.2011.01541.x</td>\n",
       "      <td>M</td>\n",
       "      <td>0</td>\n",
       "    </tr>\n",
       "    <tr>\n",
       "      <th>4795</th>\n",
       "      <td>Matthew</td>\n",
       "      <td>Ronald</td>\n",
       "      <td>male</td>\n",
       "      <td>10.1111/j.1460-2466.2004.tb02615.x+2.0</td>\n",
       "      <td>10.1111/j.1460-2466.2004.tb02615.x</td>\n",
       "      <td>M</td>\n",
       "      <td>1</td>\n",
       "    </tr>\n",
       "    <tr>\n",
       "      <th>2583</th>\n",
       "      <td>Michelle</td>\n",
       "      <td>Sue</td>\n",
       "      <td>female</td>\n",
       "      <td>10.1111/j.1468-2885.2010.01357.x+1.0</td>\n",
       "      <td>10.1111/j.1468-2885.2010.01357.x</td>\n",
       "      <td>F</td>\n",
       "      <td>0.0</td>\n",
       "    </tr>\n",
       "    <tr>\n",
       "      <th>7427</th>\n",
       "      <td>Jaemin</td>\n",
       "      <td>Richard</td>\n",
       "      <td>male</td>\n",
       "      <td>10.1111/j.1460-2466.1975.tb00580.x+2.0</td>\n",
       "      <td>10.1111/j.1460-2466.1975.tb00580.x</td>\n",
       "      <td>M</td>\n",
       "      <td>0</td>\n",
       "    </tr>\n",
       "    <tr>\n",
       "      <th>2102</th>\n",
       "      <td>Michelle</td>\n",
       "      <td>Andy</td>\n",
       "      <td>male</td>\n",
       "      <td>10.1093/hcr/hqy004+3.0</td>\n",
       "      <td>10.1093/hcr/hqy004</td>\n",
       "      <td>M</td>\n",
       "      <td>2.0</td>\n",
       "    </tr>\n",
       "    <tr>\n",
       "      <th>3827</th>\n",
       "      <td>Matthew</td>\n",
       "      <td>Robert</td>\n",
       "      <td>male</td>\n",
       "      <td>10.1093/ct/qtab002+1.0</td>\n",
       "      <td>10.1093/ct/qtab002</td>\n",
       "      <td>M</td>\n",
       "      <td>0</td>\n",
       "    </tr>\n",
       "  </tbody>\n",
       "</table>\n",
       "</div>"
      ],
      "text/plain": [
       "         Coder firstName genderize                                authorID  \\\n",
       "5627   Matthew    Marvin      male  10.1111/j.1460-2466.1957.tb00249.x+1.0   \n",
       "491      Haley     Nancy    female    10.1111/j.1753-9137.2012.01145.x+1.0   \n",
       "3632  Michelle    Thomas      male  10.1111/j.1460-2466.1976.tb01395.x+1.0   \n",
       "2983  Michelle     Judee    female  10.1111/j.1460-2466.2002.tb02567.x+1.0   \n",
       "6329    Jaemin    Howard      male    10.1111/j.1083-6101.2011.01541.x+3.0   \n",
       "4795   Matthew    Ronald      male  10.1111/j.1460-2466.2004.tb02615.x+2.0   \n",
       "2583  Michelle       Sue    female    10.1111/j.1468-2885.2010.01357.x+1.0   \n",
       "7427    Jaemin   Richard      male  10.1111/j.1460-2466.1975.tb00580.x+2.0   \n",
       "2102  Michelle      Andy      male                  10.1093/hcr/hqy004+3.0   \n",
       "3827   Matthew    Robert      male                  10.1093/ct/qtab002+1.0   \n",
       "\n",
       "                                     doi gender_prediction race_prediction  \n",
       "5627  10.1111/j.1460-2466.1957.tb00249.x                 M               0  \n",
       "491     10.1111/j.1753-9137.2012.01145.x                 F             0.0  \n",
       "3632  10.1111/j.1460-2466.1976.tb01395.x                 M             0.0  \n",
       "2983  10.1111/j.1460-2466.2002.tb02567.x                 F             0.0  \n",
       "6329    10.1111/j.1083-6101.2011.01541.x                 M               0  \n",
       "4795  10.1111/j.1460-2466.2004.tb02615.x                 M               1  \n",
       "2583    10.1111/j.1468-2885.2010.01357.x                 F             0.0  \n",
       "7427  10.1111/j.1460-2466.1975.tb00580.x                 M               0  \n",
       "2102                  10.1093/hcr/hqy004                 M             2.0  \n",
       "3827                  10.1093/ct/qtab002                 M               0  "
      ]
     },
     "execution_count": 200,
     "metadata": {},
     "output_type": "execute_result"
    }
   ],
   "source": [
    "df = pd.concat([haley, michelle, matthew, jaemin], ignore_index = True)\n",
    "df['gender_prediction'] = np.where(\n",
    "    df.gender_prediction.isnull(), df.gender_prediction, df.gender_prediction.str.upper())\n",
    "df.sample(10)"
   ]
  },
  {
   "cell_type": "code",
   "execution_count": 201,
   "id": "fc679dcc",
   "metadata": {},
   "outputs": [
    {
     "data": {
      "text/html": [
       "<div>\n",
       "<style scoped>\n",
       "    .dataframe tbody tr th:only-of-type {\n",
       "        vertical-align: middle;\n",
       "    }\n",
       "\n",
       "    .dataframe tbody tr th {\n",
       "        vertical-align: top;\n",
       "    }\n",
       "\n",
       "    .dataframe thead th {\n",
       "        text-align: right;\n",
       "    }\n",
       "</style>\n",
       "<table border=\"1\" class=\"dataframe\">\n",
       "  <thead>\n",
       "    <tr style=\"text-align: right;\">\n",
       "      <th></th>\n",
       "      <th>Coder</th>\n",
       "      <th>firstName</th>\n",
       "      <th>genderize</th>\n",
       "      <th>authorID</th>\n",
       "      <th>doi</th>\n",
       "      <th>gender_prediction</th>\n",
       "      <th>race_prediction</th>\n",
       "    </tr>\n",
       "  </thead>\n",
       "  <tbody>\n",
       "    <tr>\n",
       "      <th>1594</th>\n",
       "      <td>Haley</td>\n",
       "      <td>L.S.</td>\n",
       "      <td>NaN</td>\n",
       "      <td>10.1111/j.1468-2958.1980.tb00547.x+1.0</td>\n",
       "      <td>10.1111/j.1468-2958.1980.tb00547.x</td>\n",
       "      <td>NaN</td>\n",
       "      <td>0</td>\n",
       "    </tr>\n",
       "    <tr>\n",
       "      <th>1657</th>\n",
       "      <td>Haley</td>\n",
       "      <td>S.</td>\n",
       "      <td>NaN</td>\n",
       "      <td>10.1111/j.1460-2466.1978.tb01582.x+2.0</td>\n",
       "      <td>10.1111/j.1460-2466.1978.tb01582.x</td>\n",
       "      <td>NaN</td>\n",
       "      <td>0</td>\n",
       "    </tr>\n",
       "    <tr>\n",
       "      <th>3470</th>\n",
       "      <td>Michelle</td>\n",
       "      <td>R.</td>\n",
       "      <td>NaN</td>\n",
       "      <td>10.1111/j.1468-2958.1981.tb00655.x+3.0</td>\n",
       "      <td>10.1111/j.1468-2958.1981.tb00655.x</td>\n",
       "      <td>NaN</td>\n",
       "      <td>0</td>\n",
       "    </tr>\n",
       "    <tr>\n",
       "      <th>3490</th>\n",
       "      <td>Michelle</td>\n",
       "      <td>F.</td>\n",
       "      <td>NaN</td>\n",
       "      <td>10.1111/j.1460-2466.1980.tb01988.x+1.0</td>\n",
       "      <td>10.1111/j.1460-2466.1980.tb01988.x</td>\n",
       "      <td>NaN</td>\n",
       "      <td>3</td>\n",
       "    </tr>\n",
       "    <tr>\n",
       "      <th>5631</th>\n",
       "      <td>Matthew</td>\n",
       "      <td>T.</td>\n",
       "      <td>NaN</td>\n",
       "      <td>10.1111/j.1460-2466.1955.tb01117.x+1.0</td>\n",
       "      <td>10.1111/j.1460-2466.1955.tb01117.x</td>\n",
       "      <td>NaN</td>\n",
       "      <td>0</td>\n",
       "    </tr>\n",
       "    <tr>\n",
       "      <th>5647</th>\n",
       "      <td>Matthew</td>\n",
       "      <td>K.</td>\n",
       "      <td>NaN</td>\n",
       "      <td>10.1111/j.1460-2466.1951.tb00113.x+1.0</td>\n",
       "      <td>10.1111/j.1460-2466.1951.tb00113.x</td>\n",
       "      <td>NaN</td>\n",
       "      <td>0</td>\n",
       "    </tr>\n",
       "    <tr>\n",
       "      <th>5649</th>\n",
       "      <td>Matthew</td>\n",
       "      <td>L.</td>\n",
       "      <td>NaN</td>\n",
       "      <td>10.1111/j.1460-2466.1951.tb00105.x+2.0</td>\n",
       "      <td>10.1111/j.1460-2466.1951.tb00105.x</td>\n",
       "      <td>NaN</td>\n",
       "      <td>0</td>\n",
       "    </tr>\n",
       "  </tbody>\n",
       "</table>\n",
       "</div>"
      ],
      "text/plain": [
       "         Coder firstName genderize                                authorID  \\\n",
       "1594     Haley      L.S.       NaN  10.1111/j.1468-2958.1980.tb00547.x+1.0   \n",
       "1657     Haley        S.       NaN  10.1111/j.1460-2466.1978.tb01582.x+2.0   \n",
       "3470  Michelle        R.       NaN  10.1111/j.1468-2958.1981.tb00655.x+3.0   \n",
       "3490  Michelle        F.       NaN  10.1111/j.1460-2466.1980.tb01988.x+1.0   \n",
       "5631   Matthew        T.       NaN  10.1111/j.1460-2466.1955.tb01117.x+1.0   \n",
       "5647   Matthew        K.       NaN  10.1111/j.1460-2466.1951.tb00113.x+1.0   \n",
       "5649   Matthew        L.       NaN  10.1111/j.1460-2466.1951.tb00105.x+2.0   \n",
       "\n",
       "                                     doi gender_prediction race_prediction  \n",
       "1594  10.1111/j.1468-2958.1980.tb00547.x               NaN               0  \n",
       "1657  10.1111/j.1460-2466.1978.tb01582.x               NaN               0  \n",
       "3470  10.1111/j.1468-2958.1981.tb00655.x               NaN               0  \n",
       "3490  10.1111/j.1460-2466.1980.tb01988.x               NaN               3  \n",
       "5631  10.1111/j.1460-2466.1955.tb01117.x               NaN               0  \n",
       "5647  10.1111/j.1460-2466.1951.tb00113.x               NaN               0  \n",
       "5649  10.1111/j.1460-2466.1951.tb00105.x               NaN               0  "
      ]
     },
     "execution_count": 201,
     "metadata": {},
     "output_type": "execute_result"
    }
   ],
   "source": [
    "# These are the nans without considering initial_df\n",
    "\n",
    "first_try_nan = df[df.gender_prediction.isnull()]\n",
    "first_try_nan"
   ]
  },
  {
   "cell_type": "markdown",
   "id": "d2801469",
   "metadata": {},
   "source": [
    "## Initial df result"
   ]
  },
  {
   "cell_type": "code",
   "execution_count": 202,
   "id": "0eb343ff",
   "metadata": {},
   "outputs": [
    {
     "data": {
      "text/html": [
       "<div>\n",
       "<style scoped>\n",
       "    .dataframe tbody tr th:only-of-type {\n",
       "        vertical-align: middle;\n",
       "    }\n",
       "\n",
       "    .dataframe tbody tr th {\n",
       "        vertical-align: top;\n",
       "    }\n",
       "\n",
       "    .dataframe thead th {\n",
       "        text-align: right;\n",
       "    }\n",
       "</style>\n",
       "<table border=\"1\" class=\"dataframe\">\n",
       "  <thead>\n",
       "    <tr style=\"text-align: right;\">\n",
       "      <th></th>\n",
       "      <th>Coder</th>\n",
       "      <th>authorID</th>\n",
       "      <th>doi</th>\n",
       "      <th>url</th>\n",
       "      <th>year</th>\n",
       "      <th>title</th>\n",
       "      <th>journal</th>\n",
       "      <th>numberOfAuthors</th>\n",
       "      <th>authorPosition</th>\n",
       "      <th>authorFullName</th>\n",
       "      <th>firstName</th>\n",
       "      <th>lastName</th>\n",
       "      <th>affiliation</th>\n",
       "      <th>gscholarLink</th>\n",
       "      <th>googleSearch</th>\n",
       "      <th>genderize</th>\n",
       "      <th>genderize_prob</th>\n",
       "      <th>genderize_basedon</th>\n",
       "      <th>genderAccuracy</th>\n",
       "      <th>authorFullName.1</th>\n",
       "      <th>firstName.1</th>\n",
       "      <th>lastName.1</th>\n",
       "      <th>affiliation.1</th>\n",
       "      <th>gscholarLink.1</th>\n",
       "      <th>googleSearch.1</th>\n",
       "      <th>race</th>\n",
       "      <th>racePredAccuracy</th>\n",
       "      <th>api</th>\n",
       "      <th>black</th>\n",
       "      <th>hispanic</th>\n",
       "      <th>white</th>\n",
       "      <th>raceHighest</th>\n",
       "      <th>raceSecondHighest</th>\n",
       "      <th>raceDiff</th>\n",
       "      <th>affProcessed</th>\n",
       "      <th>affiliation.2</th>\n",
       "      <th>ROR_AFFNAME</th>\n",
       "      <th>matchMethod</th>\n",
       "      <th>ROR_ID</th>\n",
       "      <th>type</th>\n",
       "      <th>firstNameLength</th>\n",
       "      <th>gender_prediction</th>\n",
       "      <th>Unnamed: 42</th>\n",
       "    </tr>\n",
       "  </thead>\n",
       "  <tbody>\n",
       "    <tr>\n",
       "      <th>31</th>\n",
       "      <td>michelle</td>\n",
       "      <td>10.1111/j.1460-2466.1980.tb01988.x+1.0</td>\n",
       "      <td>10.1111/j.1460-2466.1980.tb01988.x</td>\n",
       "      <td>https://academic.oup.com/joc/article/30/3/30/4371874</td>\n",
       "      <td>1980</td>\n",
       "      <td>How Accurate Are the Headlines?</td>\n",
       "      <td>Journal of Communication</td>\n",
       "      <td>1</td>\n",
       "      <td>1</td>\n",
       "      <td>F. T. Marquez</td>\n",
       "      <td>F.</td>\n",
       "      <td>Marquez</td>\n",
       "      <td>1 Department of Journalism, Temple University</td>\n",
       "      <td>https://scholar.google.com/scholar?hl=en&amp;as_sdt=0%252C50&amp;q=F.+Marquez</td>\n",
       "      <td>https://www.google.com/search?q=F.+T.+Marquez+department+of+journalism+temple+university</td>\n",
       "      <td>NaN</td>\n",
       "      <td>0.0</td>\n",
       "      <td>0</td>\n",
       "      <td>Low</td>\n",
       "      <td>F. T. Marquez</td>\n",
       "      <td>F.</td>\n",
       "      <td>Marquez</td>\n",
       "      <td>1 Department of Journalism, Temple University</td>\n",
       "      <td>https://scholar.google.com/scholar?hl=en&amp;as_sdt=0%252C50&amp;q=F.+Marquez</td>\n",
       "      <td>https://www.google.com/search?q=F.+T.+Marquez+department+of+journalism+temple+university</td>\n",
       "      <td>hispanic</td>\n",
       "      <td>High</td>\n",
       "      <td>0.014117</td>\n",
       "      <td>0.005295</td>\n",
       "      <td>0.912621</td>\n",
       "      <td>0.067967</td>\n",
       "      <td>0.912621</td>\n",
       "      <td>0.067967</td>\n",
       "      <td>0.844655</td>\n",
       "      <td>department of journalism temple university</td>\n",
       "      <td>1 Department of Journalism, Temple University</td>\n",
       "      <td>Temple University</td>\n",
       "      <td>Exact</td>\n",
       "      <td>https://ror.org/00kx1jb78</td>\n",
       "      <td>R</td>\n",
       "      <td>2</td>\n",
       "      <td>M</td>\n",
       "      <td>NaN</td>\n",
       "    </tr>\n",
       "    <tr>\n",
       "      <th>41</th>\n",
       "      <td>matthew</td>\n",
       "      <td>10.1111/j.1460-2466.1951.tb00113.x+1.0</td>\n",
       "      <td>10.1111/j.1460-2466.1951.tb00113.x</td>\n",
       "      <td>https://academic.oup.com/joc/article/1/2/30/4070464</td>\n",
       "      <td>1951</td>\n",
       "      <td>Wanted: Skilled Communicators in the Air Force</td>\n",
       "      <td>Journal of Communication</td>\n",
       "      <td>1</td>\n",
       "      <td>1</td>\n",
       "      <td>K. B. Clark</td>\n",
       "      <td>K.</td>\n",
       "      <td>Clark</td>\n",
       "      <td>1 Captain United States Air Force R.O.T.C., University of Washington, Seattle, Washington</td>\n",
       "      <td>https://scholar.google.com/scholar?hl=en&amp;as_sdt=0%252C50&amp;q=K.+Clark</td>\n",
       "      <td>https://www.google.com/search?q=K.+B.+Clark+captain+united+states+air+force+r+o+t+c+university+of+washington+seattle+washington</td>\n",
       "      <td>NaN</td>\n",
       "      <td>0.0</td>\n",
       "      <td>0</td>\n",
       "      <td>Low</td>\n",
       "      <td>K. B. Clark</td>\n",
       "      <td>K.</td>\n",
       "      <td>Clark</td>\n",
       "      <td>1 Captain United States Air Force R.O.T.C., University of Washington, Seattle, Washington</td>\n",
       "      <td>https://scholar.google.com/scholar?hl=en&amp;as_sdt=0%252C50&amp;q=K.+Clark</td>\n",
       "      <td>https://www.google.com/search?q=K.+B.+Clark+captain+united+states+air+force+r+o+t+c+university+of+washington+seattle+washington</td>\n",
       "      <td>white</td>\n",
       "      <td>Low</td>\n",
       "      <td>0.004662</td>\n",
       "      <td>0.188199</td>\n",
       "      <td>0.024371</td>\n",
       "      <td>0.782768</td>\n",
       "      <td>0.782768</td>\n",
       "      <td>0.188199</td>\n",
       "      <td>0.594569</td>\n",
       "      <td>captain united states air force r o t c university of washington seattle washington</td>\n",
       "      <td>1 Captain United States Air Force R.O.T.C., University of Washington, Seattle, Washington</td>\n",
       "      <td>University of Washington</td>\n",
       "      <td>Exact</td>\n",
       "      <td>https://ror.org/00cvxb145</td>\n",
       "      <td>R</td>\n",
       "      <td>2</td>\n",
       "      <td>M</td>\n",
       "      <td>NaN</td>\n",
       "    </tr>\n",
       "    <tr>\n",
       "      <th>55</th>\n",
       "      <td>matthew</td>\n",
       "      <td>10.1111/j.1460-2466.1951.tb00105.x+2.0</td>\n",
       "      <td>10.1111/j.1460-2466.1951.tb00105.x</td>\n",
       "      <td>https://academic.oup.com/joc/article/1/1/66/4609486</td>\n",
       "      <td>1951</td>\n",
       "      <td>University Courses on Television</td>\n",
       "      <td>Journal of Communication</td>\n",
       "      <td>2</td>\n",
       "      <td>2</td>\n",
       "      <td>L. P. Greenhill</td>\n",
       "      <td>L.</td>\n",
       "      <td>Greenhill</td>\n",
       "      <td>2 Research Associate and Coordinator of the Instructional Film Program</td>\n",
       "      <td>https://scholar.google.com/scholar?hl=en&amp;as_sdt=0%252C50&amp;q=L.+Greenhill</td>\n",
       "      <td>https://www.google.com/search?q=L.+P.+Greenhill+research+associate+and+coordinator+of+the+instructional+film+program</td>\n",
       "      <td>NaN</td>\n",
       "      <td>0.0</td>\n",
       "      <td>0</td>\n",
       "      <td>Low</td>\n",
       "      <td>L. P. Greenhill</td>\n",
       "      <td>L.</td>\n",
       "      <td>Greenhill</td>\n",
       "      <td>2 Research Associate and Coordinator of the Instructional Film Program</td>\n",
       "      <td>https://scholar.google.com/scholar?hl=en&amp;as_sdt=0%252C50&amp;q=L.+Greenhill</td>\n",
       "      <td>https://www.google.com/search?q=L.+P.+Greenhill+research+associate+and+coordinator+of+the+instructional+film+program</td>\n",
       "      <td>white</td>\n",
       "      <td>High</td>\n",
       "      <td>0.005967</td>\n",
       "      <td>0.010511</td>\n",
       "      <td>0.026882</td>\n",
       "      <td>0.956640</td>\n",
       "      <td>0.956640</td>\n",
       "      <td>0.026882</td>\n",
       "      <td>0.929759</td>\n",
       "      <td>research associate and coordinator of the instructional film program</td>\n",
       "      <td>2 Research Associate and Coordinator of the Instructional Film Program</td>\n",
       "      <td>Instructional Research Group</td>\n",
       "      <td>API_QUERY</td>\n",
       "      <td>https://ror.org/03hx4df17</td>\n",
       "      <td>R</td>\n",
       "      <td>2</td>\n",
       "      <td>M</td>\n",
       "      <td>NaN</td>\n",
       "    </tr>\n",
       "    <tr>\n",
       "      <th>70</th>\n",
       "      <td>michelle</td>\n",
       "      <td>10.1111/j.1468-2958.1981.tb00655.x+3.0</td>\n",
       "      <td>10.1111/j.1468-2958.1981.tb00655.x</td>\n",
       "      <td>https://academic.oup.com/hcr/article/8/1/43/4587814</td>\n",
       "      <td>1981</td>\n",
       "      <td>Effects of Humorous Illustrations in College Textbooks</td>\n",
       "      <td>Human Communication Research</td>\n",
       "      <td>4</td>\n",
       "      <td>3</td>\n",
       "      <td>R. Silberberg</td>\n",
       "      <td>R.</td>\n",
       "      <td>Silberberg</td>\n",
       "      <td>2 Dan Brown (M.A., Western Carolina University, 1975), and Scott M. Elliott (M.A., West Virginia University, 1978) are doctoral candidates in the same department</td>\n",
       "      <td>https://scholar.google.com/scholar?hl=en&amp;as_sdt=0%252C50&amp;q=R.+Silberberg</td>\n",
       "      <td>https://www.google.com/search?q=R.+Silberberg+dan+brown+and+scott+m+elliott+are+doctoral+candidates+in+the+same+department</td>\n",
       "      <td>NaN</td>\n",
       "      <td>0.0</td>\n",
       "      <td>0</td>\n",
       "      <td>Low</td>\n",
       "      <td>R. Silberberg</td>\n",
       "      <td>R.</td>\n",
       "      <td>Silberberg</td>\n",
       "      <td>2 Dan Brown (M.A., Western Carolina University, 1975), and Scott M. Elliott (M.A., West Virginia University, 1978) are doctoral candidates in the same department</td>\n",
       "      <td>https://scholar.google.com/scholar?hl=en&amp;as_sdt=0%252C50&amp;q=R.+Silberberg</td>\n",
       "      <td>https://www.google.com/search?q=R.+Silberberg+dan+brown+and+scott+m+elliott+are+doctoral+candidates+in+the+same+department</td>\n",
       "      <td>white</td>\n",
       "      <td>High</td>\n",
       "      <td>0.002875</td>\n",
       "      <td>0.008233</td>\n",
       "      <td>0.019198</td>\n",
       "      <td>0.969693</td>\n",
       "      <td>0.969693</td>\n",
       "      <td>0.019198</td>\n",
       "      <td>0.950495</td>\n",
       "      <td>dan brown and scott m elliott are doctoral candidates in the same department</td>\n",
       "      <td>2 Dan Brown (M.A., Western Carolina University, 1975), and Scott M. Elliott (M.A., West Virginia University, 1978) are doctoral candidates in the same department</td>\n",
       "      <td>Institute for Doctoral Studies in the Visual Arts</td>\n",
       "      <td>API_QUERY</td>\n",
       "      <td>https://ror.org/058vwqx43</td>\n",
       "      <td>R</td>\n",
       "      <td>2</td>\n",
       "      <td>M</td>\n",
       "      <td>NaN</td>\n",
       "    </tr>\n",
       "    <tr>\n",
       "      <th>73</th>\n",
       "      <td>haley</td>\n",
       "      <td>10.1111/j.1460-2466.1978.tb01582.x+2.0</td>\n",
       "      <td>10.1111/j.1460-2466.1978.tb01582.x</td>\n",
       "      <td>https://academic.oup.com/joc/article/28/1/174/4371811</td>\n",
       "      <td>1978</td>\n",
       "      <td>The Labor Force in Fiction</td>\n",
       "      <td>Journal of Communication</td>\n",
       "      <td>2</td>\n",
       "      <td>2</td>\n",
       "      <td>S. Dier</td>\n",
       "      <td>S.</td>\n",
       "      <td>Dier</td>\n",
       "      <td>1 Charles Lazer is an adjunct Assistant Professor of Sociology and S. Dier a graduate student at the University of Waterloo, Ontario. The authors wish to thank Elaine Cumming and Jacquelyn L. Lazer for their valuable comments and criticism on an earlier draft of this article</td>\n",
       "      <td>https://scholar.google.com/scholar?hl=en&amp;as_sdt=0%252C50&amp;q=S.+Dier</td>\n",
       "      <td>https://www.google.com/search?q=S.+Dier+charles+lazer+is+an+adjunct+assistant+professor+of+sociology+and+s+dier+a+graduate+student+at+the+university+of+waterloo+ontario+the+authors+wish+to+thank+elaine+cumming+and+jacquelyn+l+lazer+for+their+valuable+comments+and+criticism+on+an+earlier+draft+of+this+article</td>\n",
       "      <td>NaN</td>\n",
       "      <td>0.0</td>\n",
       "      <td>0</td>\n",
       "      <td>Low</td>\n",
       "      <td>S. Dier</td>\n",
       "      <td>S.</td>\n",
       "      <td>Dier</td>\n",
       "      <td>1 Charles Lazer is an adjunct Assistant Professor of Sociology and S. Dier a graduate student at the University of Waterloo, Ontario. The authors wish to thank Elaine Cumming and Jacquelyn L. Lazer for their valuable comments and criticism on an earlier draft of this article</td>\n",
       "      <td>https://scholar.google.com/scholar?hl=en&amp;as_sdt=0%252C50&amp;q=S.+Dier</td>\n",
       "      <td>https://www.google.com/search?q=S.+Dier+charles+lazer+is+an+adjunct+assistant+professor+of+sociology+and+s+dier+a+graduate+student+at+the+university+of+waterloo+ontario+the+authors+wish+to+thank+elaine+cumming+and+jacquelyn+l+lazer+for+their+valuable+comments+and+criticism+on+an+earlier+draft+of+this+article</td>\n",
       "      <td>white</td>\n",
       "      <td>Low</td>\n",
       "      <td>0.171990</td>\n",
       "      <td>0.012856</td>\n",
       "      <td>0.040450</td>\n",
       "      <td>0.774704</td>\n",
       "      <td>0.774704</td>\n",
       "      <td>0.171990</td>\n",
       "      <td>0.602714</td>\n",
       "      <td>charles lazer is an adjunct assistant professor of sociology and s dier a graduate student at the university of waterloo ontario the authors wish to thank elaine cumming and jacquelyn l lazer for their valuable comments and criticism on an earlier draft of this article</td>\n",
       "      <td>1 Charles Lazer is an adjunct Assistant Professor of Sociology and S. Dier a graduate student at the University of Waterloo, Ontario. The authors wish to thank Elaine Cumming and Jacquelyn L. Lazer for their valuable comments and criticism on an earlier draft of this article</td>\n",
       "      <td>University of Waterloo</td>\n",
       "      <td>Exact</td>\n",
       "      <td>https://ror.org/01aff2v68</td>\n",
       "      <td>R</td>\n",
       "      <td>2</td>\n",
       "      <td>NaN</td>\n",
       "      <td>M</td>\n",
       "    </tr>\n",
       "    <tr>\n",
       "      <th>76</th>\n",
       "      <td>matthew</td>\n",
       "      <td>10.1111/j.1460-2466.1955.tb01117.x+1.0</td>\n",
       "      <td>10.1111/j.1460-2466.1955.tb01117.x</td>\n",
       "      <td>https://academic.oup.com/joc/article/5/4/157/4609610</td>\n",
       "      <td>1955</td>\n",
       "      <td>Improvement of Group Relations in a Ceylonese Girls' School</td>\n",
       "      <td>Journal of Communication</td>\n",
       "      <td>1</td>\n",
       "      <td>1</td>\n",
       "      <td>T. L. Green</td>\n",
       "      <td>T.</td>\n",
       "      <td>Green</td>\n",
       "      <td>1 Professor of Education, University of Ceylon, Colombo, Ceylon. Dr. Green is a member of the International Standardization Committee on Group Methods. This paper appeared originally in the Proceedings of the Ceylon Association for the Advancement of Science, Vol. 9, 1953, and is reprinted by permission</td>\n",
       "      <td>https://scholar.google.com/scholar?hl=en&amp;as_sdt=0%252C50&amp;q=T.+Green</td>\n",
       "      <td>https://www.google.com/search?q=T.+L.+Green+professor+of+education+university+of+ceylon+colombo+ceylon+dr+green+is+a+member+of+the+international+standardization+committee+on+group+methods+this+paper+appeared+originally+in+the+proceedings+of+the+ceylon+association+for+the+advancement+of+science+vol+and+is+reprinted+by+permission</td>\n",
       "      <td>NaN</td>\n",
       "      <td>0.0</td>\n",
       "      <td>0</td>\n",
       "      <td>Low</td>\n",
       "      <td>T. L. Green</td>\n",
       "      <td>T.</td>\n",
       "      <td>Green</td>\n",
       "      <td>1 Professor of Education, University of Ceylon, Colombo, Ceylon. Dr. Green is a member of the International Standardization Committee on Group Methods. This paper appeared originally in the Proceedings of the Ceylon Association for the Advancement of Science, Vol. 9, 1953, and is reprinted by permission</td>\n",
       "      <td>https://scholar.google.com/scholar?hl=en&amp;as_sdt=0%252C50&amp;q=T.+Green</td>\n",
       "      <td>https://www.google.com/search?q=T.+L.+Green+professor+of+education+university+of+ceylon+colombo+ceylon+dr+green+is+a+member+of+the+international+standardization+committee+on+group+methods+this+paper+appeared+originally+in+the+proceedings+of+the+ceylon+association+for+the+advancement+of+science+vol+and+is+reprinted+by+permission</td>\n",
       "      <td>white</td>\n",
       "      <td>Low</td>\n",
       "      <td>0.005531</td>\n",
       "      <td>0.399018</td>\n",
       "      <td>0.019703</td>\n",
       "      <td>0.575748</td>\n",
       "      <td>0.575748</td>\n",
       "      <td>0.399018</td>\n",
       "      <td>0.176730</td>\n",
       "      <td>professor of education university of ceylon colombo ceylon dr green is a member of the international standardization committee on group methods this paper appeared originally in the proceedings of the ceylon association for the advancement of science vol and is reprinted by permission</td>\n",
       "      <td>1 Professor of Education, University of Ceylon, Colombo, Ceylon. Dr. Green is a member of the International Standardization Committee on Group Methods. This paper appeared originally in the Proceedings of the Ceylon Association for the Advancement of Science, Vol. 9, 1953, and is reprinted by permission</td>\n",
       "      <td>University of the Visual &amp; Performing Arts</td>\n",
       "      <td>API_QUERY</td>\n",
       "      <td>https://ror.org/046pqvy32</td>\n",
       "      <td>R</td>\n",
       "      <td>2</td>\n",
       "      <td>NaN</td>\n",
       "      <td>M</td>\n",
       "    </tr>\n",
       "  </tbody>\n",
       "</table>\n",
       "</div>"
      ],
      "text/plain": [
       "       Coder                                authorID  \\\n",
       "31  michelle  10.1111/j.1460-2466.1980.tb01988.x+1.0   \n",
       "41   matthew  10.1111/j.1460-2466.1951.tb00113.x+1.0   \n",
       "55   matthew  10.1111/j.1460-2466.1951.tb00105.x+2.0   \n",
       "70  michelle  10.1111/j.1468-2958.1981.tb00655.x+3.0   \n",
       "73     haley  10.1111/j.1460-2466.1978.tb01582.x+2.0   \n",
       "76   matthew  10.1111/j.1460-2466.1955.tb01117.x+1.0   \n",
       "\n",
       "                                   doi  \\\n",
       "31  10.1111/j.1460-2466.1980.tb01988.x   \n",
       "41  10.1111/j.1460-2466.1951.tb00113.x   \n",
       "55  10.1111/j.1460-2466.1951.tb00105.x   \n",
       "70  10.1111/j.1468-2958.1981.tb00655.x   \n",
       "73  10.1111/j.1460-2466.1978.tb01582.x   \n",
       "76  10.1111/j.1460-2466.1955.tb01117.x   \n",
       "\n",
       "                                                      url  year  \\\n",
       "31   https://academic.oup.com/joc/article/30/3/30/4371874  1980   \n",
       "41    https://academic.oup.com/joc/article/1/2/30/4070464  1951   \n",
       "55    https://academic.oup.com/joc/article/1/1/66/4609486  1951   \n",
       "70    https://academic.oup.com/hcr/article/8/1/43/4587814  1981   \n",
       "73  https://academic.oup.com/joc/article/28/1/174/4371811  1978   \n",
       "76   https://academic.oup.com/joc/article/5/4/157/4609610  1955   \n",
       "\n",
       "                                                          title  \\\n",
       "31                              How Accurate Are the Headlines?   \n",
       "41               Wanted: Skilled Communicators in the Air Force   \n",
       "55                             University Courses on Television   \n",
       "70       Effects of Humorous Illustrations in College Textbooks   \n",
       "73                                   The Labor Force in Fiction   \n",
       "76  Improvement of Group Relations in a Ceylonese Girls' School   \n",
       "\n",
       "                         journal  numberOfAuthors  authorPosition  \\\n",
       "31      Journal of Communication                1               1   \n",
       "41      Journal of Communication                1               1   \n",
       "55      Journal of Communication                2               2   \n",
       "70  Human Communication Research                4               3   \n",
       "73      Journal of Communication                2               2   \n",
       "76      Journal of Communication                1               1   \n",
       "\n",
       "     authorFullName firstName    lastName  \\\n",
       "31    F. T. Marquez        F.     Marquez   \n",
       "41      K. B. Clark        K.       Clark   \n",
       "55  L. P. Greenhill        L.   Greenhill   \n",
       "70    R. Silberberg        R.  Silberberg   \n",
       "73          S. Dier        S.        Dier   \n",
       "76      T. L. Green        T.       Green   \n",
       "\n",
       "                                                                                                                                                                                                                                                                                                         affiliation  \\\n",
       "31                                                                                                                                                                                                                                                                     1 Department of Journalism, Temple University   \n",
       "41                                                                                                                                                                                                                         1 Captain United States Air Force R.O.T.C., University of Washington, Seattle, Washington   \n",
       "55                                                                                                                                                                                                                                            2 Research Associate and Coordinator of the Instructional Film Program   \n",
       "70                                                                                                                                                 2 Dan Brown (M.A., Western Carolina University, 1975), and Scott M. Elliott (M.A., West Virginia University, 1978) are doctoral candidates in the same department   \n",
       "73                               1 Charles Lazer is an adjunct Assistant Professor of Sociology and S. Dier a graduate student at the University of Waterloo, Ontario. The authors wish to thank Elaine Cumming and Jacquelyn L. Lazer for their valuable comments and criticism on an earlier draft of this article   \n",
       "76  1 Professor of Education, University of Ceylon, Colombo, Ceylon. Dr. Green is a member of the International Standardization Committee on Group Methods. This paper appeared originally in the Proceedings of the Ceylon Association for the Advancement of Science, Vol. 9, 1953, and is reprinted by permission   \n",
       "\n",
       "                                                                gscholarLink  \\\n",
       "31     https://scholar.google.com/scholar?hl=en&as_sdt=0%252C50&q=F.+Marquez   \n",
       "41       https://scholar.google.com/scholar?hl=en&as_sdt=0%252C50&q=K.+Clark   \n",
       "55   https://scholar.google.com/scholar?hl=en&as_sdt=0%252C50&q=L.+Greenhill   \n",
       "70  https://scholar.google.com/scholar?hl=en&as_sdt=0%252C50&q=R.+Silberberg   \n",
       "73        https://scholar.google.com/scholar?hl=en&as_sdt=0%252C50&q=S.+Dier   \n",
       "76       https://scholar.google.com/scholar?hl=en&as_sdt=0%252C50&q=T.+Green   \n",
       "\n",
       "                                                                                                                                                                                                                                                                                                                                 googleSearch  \\\n",
       "31                                                                                                                                                                                                                                                   https://www.google.com/search?q=F.+T.+Marquez+department+of+journalism+temple+university   \n",
       "41                                                                                                                                                                                                            https://www.google.com/search?q=K.+B.+Clark+captain+united+states+air+force+r+o+t+c+university+of+washington+seattle+washington   \n",
       "55                                                                                                                                                                                                                       https://www.google.com/search?q=L.+P.+Greenhill+research+associate+and+coordinator+of+the+instructional+film+program   \n",
       "70                                                                                                                                                                                                                 https://www.google.com/search?q=R.+Silberberg+dan+brown+and+scott+m+elliott+are+doctoral+candidates+in+the+same+department   \n",
       "73                      https://www.google.com/search?q=S.+Dier+charles+lazer+is+an+adjunct+assistant+professor+of+sociology+and+s+dier+a+graduate+student+at+the+university+of+waterloo+ontario+the+authors+wish+to+thank+elaine+cumming+and+jacquelyn+l+lazer+for+their+valuable+comments+and+criticism+on+an+earlier+draft+of+this+article   \n",
       "76  https://www.google.com/search?q=T.+L.+Green+professor+of+education+university+of+ceylon+colombo+ceylon+dr+green+is+a+member+of+the+international+standardization+committee+on+group+methods+this+paper+appeared+originally+in+the+proceedings+of+the+ceylon+association+for+the+advancement+of+science+vol+and+is+reprinted+by+permission   \n",
       "\n",
       "   genderize  genderize_prob  genderize_basedon genderAccuracy  \\\n",
       "31       NaN             0.0                  0            Low   \n",
       "41       NaN             0.0                  0            Low   \n",
       "55       NaN             0.0                  0            Low   \n",
       "70       NaN             0.0                  0            Low   \n",
       "73       NaN             0.0                  0            Low   \n",
       "76       NaN             0.0                  0            Low   \n",
       "\n",
       "   authorFullName.1 firstName.1  lastName.1  \\\n",
       "31    F. T. Marquez          F.     Marquez   \n",
       "41      K. B. Clark          K.       Clark   \n",
       "55  L. P. Greenhill          L.   Greenhill   \n",
       "70    R. Silberberg          R.  Silberberg   \n",
       "73          S. Dier          S.        Dier   \n",
       "76      T. L. Green          T.       Green   \n",
       "\n",
       "                                                                                                                                                                                                                                                                                                       affiliation.1  \\\n",
       "31                                                                                                                                                                                                                                                                     1 Department of Journalism, Temple University   \n",
       "41                                                                                                                                                                                                                         1 Captain United States Air Force R.O.T.C., University of Washington, Seattle, Washington   \n",
       "55                                                                                                                                                                                                                                            2 Research Associate and Coordinator of the Instructional Film Program   \n",
       "70                                                                                                                                                 2 Dan Brown (M.A., Western Carolina University, 1975), and Scott M. Elliott (M.A., West Virginia University, 1978) are doctoral candidates in the same department   \n",
       "73                               1 Charles Lazer is an adjunct Assistant Professor of Sociology and S. Dier a graduate student at the University of Waterloo, Ontario. The authors wish to thank Elaine Cumming and Jacquelyn L. Lazer for their valuable comments and criticism on an earlier draft of this article   \n",
       "76  1 Professor of Education, University of Ceylon, Colombo, Ceylon. Dr. Green is a member of the International Standardization Committee on Group Methods. This paper appeared originally in the Proceedings of the Ceylon Association for the Advancement of Science, Vol. 9, 1953, and is reprinted by permission   \n",
       "\n",
       "                                                              gscholarLink.1  \\\n",
       "31     https://scholar.google.com/scholar?hl=en&as_sdt=0%252C50&q=F.+Marquez   \n",
       "41       https://scholar.google.com/scholar?hl=en&as_sdt=0%252C50&q=K.+Clark   \n",
       "55   https://scholar.google.com/scholar?hl=en&as_sdt=0%252C50&q=L.+Greenhill   \n",
       "70  https://scholar.google.com/scholar?hl=en&as_sdt=0%252C50&q=R.+Silberberg   \n",
       "73        https://scholar.google.com/scholar?hl=en&as_sdt=0%252C50&q=S.+Dier   \n",
       "76       https://scholar.google.com/scholar?hl=en&as_sdt=0%252C50&q=T.+Green   \n",
       "\n",
       "                                                                                                                                                                                                                                                                                                                               googleSearch.1  \\\n",
       "31                                                                                                                                                                                                                                                   https://www.google.com/search?q=F.+T.+Marquez+department+of+journalism+temple+university   \n",
       "41                                                                                                                                                                                                            https://www.google.com/search?q=K.+B.+Clark+captain+united+states+air+force+r+o+t+c+university+of+washington+seattle+washington   \n",
       "55                                                                                                                                                                                                                       https://www.google.com/search?q=L.+P.+Greenhill+research+associate+and+coordinator+of+the+instructional+film+program   \n",
       "70                                                                                                                                                                                                                 https://www.google.com/search?q=R.+Silberberg+dan+brown+and+scott+m+elliott+are+doctoral+candidates+in+the+same+department   \n",
       "73                      https://www.google.com/search?q=S.+Dier+charles+lazer+is+an+adjunct+assistant+professor+of+sociology+and+s+dier+a+graduate+student+at+the+university+of+waterloo+ontario+the+authors+wish+to+thank+elaine+cumming+and+jacquelyn+l+lazer+for+their+valuable+comments+and+criticism+on+an+earlier+draft+of+this+article   \n",
       "76  https://www.google.com/search?q=T.+L.+Green+professor+of+education+university+of+ceylon+colombo+ceylon+dr+green+is+a+member+of+the+international+standardization+committee+on+group+methods+this+paper+appeared+originally+in+the+proceedings+of+the+ceylon+association+for+the+advancement+of+science+vol+and+is+reprinted+by+permission   \n",
       "\n",
       "        race racePredAccuracy       api     black  hispanic     white  \\\n",
       "31  hispanic             High  0.014117  0.005295  0.912621  0.067967   \n",
       "41     white              Low  0.004662  0.188199  0.024371  0.782768   \n",
       "55     white             High  0.005967  0.010511  0.026882  0.956640   \n",
       "70     white             High  0.002875  0.008233  0.019198  0.969693   \n",
       "73     white              Low  0.171990  0.012856  0.040450  0.774704   \n",
       "76     white              Low  0.005531  0.399018  0.019703  0.575748   \n",
       "\n",
       "    raceHighest  raceSecondHighest  raceDiff  \\\n",
       "31     0.912621           0.067967  0.844655   \n",
       "41     0.782768           0.188199  0.594569   \n",
       "55     0.956640           0.026882  0.929759   \n",
       "70     0.969693           0.019198  0.950495   \n",
       "73     0.774704           0.171990  0.602714   \n",
       "76     0.575748           0.399018  0.176730   \n",
       "\n",
       "                                                                                                                                                                                                                                                                                     affProcessed  \\\n",
       "31                                                                                                                                                                                                                                                     department of journalism temple university   \n",
       "41                                                                                                                                                                                                            captain united states air force r o t c university of washington seattle washington   \n",
       "55                                                                                                                                                                                                                           research associate and coordinator of the instructional film program   \n",
       "70                                                                                                                                                                                                                   dan brown and scott m elliott are doctoral candidates in the same department   \n",
       "73                  charles lazer is an adjunct assistant professor of sociology and s dier a graduate student at the university of waterloo ontario the authors wish to thank elaine cumming and jacquelyn l lazer for their valuable comments and criticism on an earlier draft of this article   \n",
       "76  professor of education university of ceylon colombo ceylon dr green is a member of the international standardization committee on group methods this paper appeared originally in the proceedings of the ceylon association for the advancement of science vol and is reprinted by permission   \n",
       "\n",
       "                                                                                                                                                                                                                                                                                                       affiliation.2  \\\n",
       "31                                                                                                                                                                                                                                                                     1 Department of Journalism, Temple University   \n",
       "41                                                                                                                                                                                                                         1 Captain United States Air Force R.O.T.C., University of Washington, Seattle, Washington   \n",
       "55                                                                                                                                                                                                                                            2 Research Associate and Coordinator of the Instructional Film Program   \n",
       "70                                                                                                                                                 2 Dan Brown (M.A., Western Carolina University, 1975), and Scott M. Elliott (M.A., West Virginia University, 1978) are doctoral candidates in the same department   \n",
       "73                               1 Charles Lazer is an adjunct Assistant Professor of Sociology and S. Dier a graduate student at the University of Waterloo, Ontario. The authors wish to thank Elaine Cumming and Jacquelyn L. Lazer for their valuable comments and criticism on an earlier draft of this article   \n",
       "76  1 Professor of Education, University of Ceylon, Colombo, Ceylon. Dr. Green is a member of the International Standardization Committee on Group Methods. This paper appeared originally in the Proceedings of the Ceylon Association for the Advancement of Science, Vol. 9, 1953, and is reprinted by permission   \n",
       "\n",
       "                                          ROR_AFFNAME matchMethod  \\\n",
       "31                                  Temple University       Exact   \n",
       "41                           University of Washington       Exact   \n",
       "55                       Instructional Research Group   API_QUERY   \n",
       "70  Institute for Doctoral Studies in the Visual Arts   API_QUERY   \n",
       "73                             University of Waterloo       Exact   \n",
       "76         University of the Visual & Performing Arts   API_QUERY   \n",
       "\n",
       "                       ROR_ID type  firstNameLength gender_prediction  \\\n",
       "31  https://ror.org/00kx1jb78    R                2                 M   \n",
       "41  https://ror.org/00cvxb145    R                2                 M   \n",
       "55  https://ror.org/03hx4df17    R                2                 M   \n",
       "70  https://ror.org/058vwqx43    R                2                 M   \n",
       "73  https://ror.org/01aff2v68    R                2               NaN   \n",
       "76  https://ror.org/046pqvy32    R                2               NaN   \n",
       "\n",
       "   Unnamed: 42  \n",
       "31         NaN  \n",
       "41         NaN  \n",
       "55         NaN  \n",
       "70         NaN  \n",
       "73           M  \n",
       "76           M  "
      ]
     },
     "execution_count": 202,
     "metadata": {},
     "output_type": "execute_result"
    }
   ],
   "source": [
    "initial_df = pd.read_csv(f'{data_dir}/initial_df.csv')\n",
    "initial_df[initial_df.authorID.isin(first_try_nan.authorID)]"
   ]
  },
  {
   "cell_type": "code",
   "execution_count": 203,
   "id": "6d24125b",
   "metadata": {},
   "outputs": [],
   "source": [
    "authorid_gender_dict = dict(zip(df.authorID, df.gender_prediction))\n",
    "initial_df_authorid_gender_dict = dict(zip(initial_df.authorID, initial_df.gender_prediction))\n",
    "authorid_gender_dict.update(initial_df_authorid_gender_dict)"
   ]
  },
  {
   "cell_type": "code",
   "execution_count": 204,
   "id": "6a010bfd",
   "metadata": {},
   "outputs": [
    {
     "data": {
      "text/plain": [
       "'M'"
      ]
     },
     "execution_count": 204,
     "metadata": {},
     "output_type": "execute_result"
    }
   ],
   "source": [
    "# the update works!\n",
    "authorid_gender_dict[first_try_nan.authorID.tolist()[2]]"
   ]
  },
  {
   "cell_type": "markdown",
   "id": "b2634637",
   "metadata": {},
   "source": [
    "## New df\n",
    "\n",
    "Now, I will create a new df using the updated authorid gender dict. "
   ]
  },
  {
   "cell_type": "code",
   "execution_count": 205,
   "id": "3202a886",
   "metadata": {},
   "outputs": [
    {
     "data": {
      "text/html": [
       "<div>\n",
       "<style scoped>\n",
       "    .dataframe tbody tr th:only-of-type {\n",
       "        vertical-align: middle;\n",
       "    }\n",
       "\n",
       "    .dataframe tbody tr th {\n",
       "        vertical-align: top;\n",
       "    }\n",
       "\n",
       "    .dataframe thead th {\n",
       "        text-align: right;\n",
       "    }\n",
       "</style>\n",
       "<table border=\"1\" class=\"dataframe\">\n",
       "  <thead>\n",
       "    <tr style=\"text-align: right;\">\n",
       "      <th></th>\n",
       "      <th>Coder</th>\n",
       "      <th>firstName</th>\n",
       "      <th>genderize</th>\n",
       "      <th>authorID</th>\n",
       "      <th>doi</th>\n",
       "      <th>gender_prediction</th>\n",
       "      <th>gender</th>\n",
       "    </tr>\n",
       "  </thead>\n",
       "  <tbody>\n",
       "    <tr>\n",
       "      <th>208</th>\n",
       "      <td>Haley</td>\n",
       "      <td>C</td>\n",
       "      <td>male</td>\n",
       "      <td>10.1093/ccc/tcy019+1.0</td>\n",
       "      <td>10.1093/ccc/tcy019</td>\n",
       "      <td>M</td>\n",
       "      <td>F</td>\n",
       "    </tr>\n",
       "    <tr>\n",
       "      <th>2019</th>\n",
       "      <td>Michelle</td>\n",
       "      <td>E</td>\n",
       "      <td>male</td>\n",
       "      <td>10.1093/jcmc/zmaa006+2.0</td>\n",
       "      <td>10.1093/jcmc/zmaa006</td>\n",
       "      <td>F</td>\n",
       "      <td>M</td>\n",
       "    </tr>\n",
       "    <tr>\n",
       "      <th>2434</th>\n",
       "      <td>Michelle</td>\n",
       "      <td>K.</td>\n",
       "      <td>NaN</td>\n",
       "      <td>10.1111/jcom.12008+4.0</td>\n",
       "      <td>10.1111/jcom.12008</td>\n",
       "      <td>F</td>\n",
       "      <td>M</td>\n",
       "    </tr>\n",
       "    <tr>\n",
       "      <th>3006</th>\n",
       "      <td>Michelle</td>\n",
       "      <td>C.</td>\n",
       "      <td>NaN</td>\n",
       "      <td>10.1111/j.1460-2466.2002.tb02577.x+3.0</td>\n",
       "      <td>10.1111/j.1460-2466.2002.tb02577.x</td>\n",
       "      <td>M</td>\n",
       "      <td>F</td>\n",
       "    </tr>\n",
       "    <tr>\n",
       "      <th>3322</th>\n",
       "      <td>Michelle</td>\n",
       "      <td>B.</td>\n",
       "      <td>NaN</td>\n",
       "      <td>10.1111/j.1468-2958.1988.tb00162.x+4.0</td>\n",
       "      <td>10.1111/j.1468-2958.1988.tb00162.x</td>\n",
       "      <td>F</td>\n",
       "      <td>M</td>\n",
       "    </tr>\n",
       "    <tr>\n",
       "      <th>4097</th>\n",
       "      <td>Matthew</td>\n",
       "      <td>A.</td>\n",
       "      <td>NaN</td>\n",
       "      <td>10.1111/hcre.12092+1.0</td>\n",
       "      <td>10.1111/hcre.12092</td>\n",
       "      <td>M</td>\n",
       "      <td>F</td>\n",
       "    </tr>\n",
       "    <tr>\n",
       "      <th>5213</th>\n",
       "      <td>Matthew</td>\n",
       "      <td>A.</td>\n",
       "      <td>NaN</td>\n",
       "      <td>10.1111/j.1468-2958.1989.tb00207.x+2.0</td>\n",
       "      <td>10.1111/j.1468-2958.1989.tb00207.x</td>\n",
       "      <td>M</td>\n",
       "      <td>NaN</td>\n",
       "    </tr>\n",
       "    <tr>\n",
       "      <th>5671</th>\n",
       "      <td>Jaemin</td>\n",
       "      <td>C</td>\n",
       "      <td>male</td>\n",
       "      <td>10.1093/ccc/tcac013+1.0</td>\n",
       "      <td>10.1093/ccc/tcac013</td>\n",
       "      <td>M</td>\n",
       "      <td>N</td>\n",
       "    </tr>\n",
       "    <tr>\n",
       "      <th>6857</th>\n",
       "      <td>Jaemin</td>\n",
       "      <td>H.</td>\n",
       "      <td>NaN</td>\n",
       "      <td>10.1111/j.1468-2885.1999.tb00208.x+1.0</td>\n",
       "      <td>10.1111/j.1468-2885.1999.tb00208.x</td>\n",
       "      <td>F</td>\n",
       "      <td>M</td>\n",
       "    </tr>\n",
       "    <tr>\n",
       "      <th>7479</th>\n",
       "      <td>Jaemin</td>\n",
       "      <td>L.</td>\n",
       "      <td>NaN</td>\n",
       "      <td>10.1111/j.1460-2466.1968.tb00051.x+1.0</td>\n",
       "      <td>10.1111/j.1460-2466.1968.tb00051.x</td>\n",
       "      <td>F</td>\n",
       "      <td>M</td>\n",
       "    </tr>\n",
       "    <tr>\n",
       "      <th>7507</th>\n",
       "      <td>Jaemin</td>\n",
       "      <td>C.</td>\n",
       "      <td>NaN</td>\n",
       "      <td>10.1111/j.1460-2466.1958.tb01140.x+1.0</td>\n",
       "      <td>10.1111/j.1460-2466.1958.tb01140.x</td>\n",
       "      <td>F</td>\n",
       "      <td>M</td>\n",
       "    </tr>\n",
       "  </tbody>\n",
       "</table>\n",
       "</div>"
      ],
      "text/plain": [
       "         Coder firstName genderize                                authorID  \\\n",
       "208      Haley         C      male                  10.1093/ccc/tcy019+1.0   \n",
       "2019  Michelle         E      male                10.1093/jcmc/zmaa006+2.0   \n",
       "2434  Michelle        K.       NaN                  10.1111/jcom.12008+4.0   \n",
       "3006  Michelle        C.       NaN  10.1111/j.1460-2466.2002.tb02577.x+3.0   \n",
       "3322  Michelle        B.       NaN  10.1111/j.1468-2958.1988.tb00162.x+4.0   \n",
       "4097   Matthew        A.       NaN                  10.1111/hcre.12092+1.0   \n",
       "5213   Matthew        A.       NaN  10.1111/j.1468-2958.1989.tb00207.x+2.0   \n",
       "5671    Jaemin         C      male                 10.1093/ccc/tcac013+1.0   \n",
       "6857    Jaemin        H.       NaN  10.1111/j.1468-2885.1999.tb00208.x+1.0   \n",
       "7479    Jaemin        L.       NaN  10.1111/j.1460-2466.1968.tb00051.x+1.0   \n",
       "7507    Jaemin        C.       NaN  10.1111/j.1460-2466.1958.tb01140.x+1.0   \n",
       "\n",
       "                                     doi gender_prediction gender  \n",
       "208                   10.1093/ccc/tcy019                 M      F  \n",
       "2019                10.1093/jcmc/zmaa006                 F      M  \n",
       "2434                  10.1111/jcom.12008                 F      M  \n",
       "3006  10.1111/j.1460-2466.2002.tb02577.x                 M      F  \n",
       "3322  10.1111/j.1468-2958.1988.tb00162.x                 F      M  \n",
       "4097                  10.1111/hcre.12092                 M      F  \n",
       "5213  10.1111/j.1468-2958.1989.tb00207.x                 M    NaN  \n",
       "5671                 10.1093/ccc/tcac013                 M      N  \n",
       "6857  10.1111/j.1468-2885.1999.tb00208.x                 F      M  \n",
       "7479  10.1111/j.1460-2466.1968.tb00051.x                 F      M  \n",
       "7507  10.1111/j.1460-2466.1958.tb01140.x                 F      M  "
      ]
     },
     "execution_count": 205,
     "metadata": {},
     "output_type": "execute_result"
    }
   ],
   "source": [
    "df['gender'] = [authorid_gender_dict[x] for x in df['authorID']]\n",
    "diff = df[df.gender_prediction != df.gender]\n",
    "diff[diff.gender_prediction.notnull()][[\n",
    "    'Coder', 'firstName', 'genderize', 'authorID', 'doi', 'gender_prediction', 'gender']]"
   ]
  },
  {
   "cell_type": "code",
   "execution_count": 206,
   "id": "837d9bf2",
   "metadata": {},
   "outputs": [
    {
     "data": {
      "text/html": [
       "<div>\n",
       "<style scoped>\n",
       "    .dataframe tbody tr th:only-of-type {\n",
       "        vertical-align: middle;\n",
       "    }\n",
       "\n",
       "    .dataframe tbody tr th {\n",
       "        vertical-align: top;\n",
       "    }\n",
       "\n",
       "    .dataframe thead th {\n",
       "        text-align: right;\n",
       "    }\n",
       "</style>\n",
       "<table border=\"1\" class=\"dataframe\">\n",
       "  <thead>\n",
       "    <tr style=\"text-align: right;\">\n",
       "      <th></th>\n",
       "      <th>Coder</th>\n",
       "      <th>firstName</th>\n",
       "      <th>genderize</th>\n",
       "      <th>authorID</th>\n",
       "      <th>doi</th>\n",
       "      <th>gender_prediction</th>\n",
       "      <th>race_prediction</th>\n",
       "      <th>gender</th>\n",
       "    </tr>\n",
       "  </thead>\n",
       "  <tbody>\n",
       "    <tr>\n",
       "      <th>0</th>\n",
       "      <td>Haley</td>\n",
       "      <td>Ben</td>\n",
       "      <td>male</td>\n",
       "      <td>10.1093/jcmc/zmab024+1.0</td>\n",
       "      <td>10.1093/jcmc/zmab024</td>\n",
       "      <td>M</td>\n",
       "      <td>1.0</td>\n",
       "      <td>M</td>\n",
       "    </tr>\n",
       "    <tr>\n",
       "      <th>1</th>\n",
       "      <td>Haley</td>\n",
       "      <td>Xuanjun</td>\n",
       "      <td>male</td>\n",
       "      <td>10.1093/joc/jqab044+4.0</td>\n",
       "      <td>10.1093/joc/jqab044</td>\n",
       "      <td>M</td>\n",
       "      <td>2.0</td>\n",
       "      <td>M</td>\n",
       "    </tr>\n",
       "    <tr>\n",
       "      <th>2</th>\n",
       "      <td>Haley</td>\n",
       "      <td>Jonathan</td>\n",
       "      <td>male</td>\n",
       "      <td>10.1093/hcr/hqab020+1.0</td>\n",
       "      <td>10.1093/hcr/hqab020</td>\n",
       "      <td>M</td>\n",
       "      <td>0.0</td>\n",
       "      <td>M</td>\n",
       "    </tr>\n",
       "    <tr>\n",
       "      <th>3</th>\n",
       "      <td>Haley</td>\n",
       "      <td>Anne</td>\n",
       "      <td>female</td>\n",
       "      <td>10.1093/hcr/hqac004+1.0</td>\n",
       "      <td>10.1093/hcr/hqac004</td>\n",
       "      <td>F</td>\n",
       "      <td>0.0</td>\n",
       "      <td>F</td>\n",
       "    </tr>\n",
       "    <tr>\n",
       "      <th>4</th>\n",
       "      <td>Haley</td>\n",
       "      <td>Sophie</td>\n",
       "      <td>female</td>\n",
       "      <td>10.1093/jcmc/zmab019+5.0</td>\n",
       "      <td>10.1093/jcmc/zmab019</td>\n",
       "      <td>F</td>\n",
       "      <td>0.0</td>\n",
       "      <td>F</td>\n",
       "    </tr>\n",
       "  </tbody>\n",
       "</table>\n",
       "</div>"
      ],
      "text/plain": [
       "   Coder firstName genderize                  authorID                   doi  \\\n",
       "0  Haley       Ben      male  10.1093/jcmc/zmab024+1.0  10.1093/jcmc/zmab024   \n",
       "1  Haley   Xuanjun      male   10.1093/joc/jqab044+4.0   10.1093/joc/jqab044   \n",
       "2  Haley  Jonathan      male   10.1093/hcr/hqab020+1.0   10.1093/hcr/hqab020   \n",
       "3  Haley      Anne    female   10.1093/hcr/hqac004+1.0   10.1093/hcr/hqac004   \n",
       "4  Haley    Sophie    female  10.1093/jcmc/zmab019+5.0  10.1093/jcmc/zmab019   \n",
       "\n",
       "  gender_prediction race_prediction gender  \n",
       "0                 M             1.0      M  \n",
       "1                 M             2.0      M  \n",
       "2                 M             0.0      M  \n",
       "3                 F             0.0      F  \n",
       "4                 F             0.0      F  "
      ]
     },
     "execution_count": 206,
     "metadata": {},
     "output_type": "execute_result"
    }
   ],
   "source": [
    "# set(df.gender_prediction_up)\n",
    "df.head()"
   ]
  },
  {
   "cell_type": "code",
   "execution_count": 207,
   "id": "4844027b",
   "metadata": {},
   "outputs": [],
   "source": [
    "def recode_race(row):\n",
    "    race_txt = 'race_prediction'\n",
    "    if row[race_txt] == 0:\n",
    "        return 'White'\n",
    "    elif row[race_txt] == 1:\n",
    "        return 'Black'\n",
    "    elif row[race_txt] == 2:\n",
    "        return 'Asian'\n",
    "    elif row[race_txt] == 3:\n",
    "        return 'Hispanic'\n",
    "    elif row[race_txt] == 4:\n",
    "        return 'Middle Eastern'\n",
    "    elif row[race_txt] == 5:\n",
    "        return 'Indigenous'"
   ]
  },
  {
   "cell_type": "code",
   "execution_count": 208,
   "id": "47c01aab",
   "metadata": {},
   "outputs": [],
   "source": [
    "df['race'] = df.apply(recode_race, axis = 1)"
   ]
  },
  {
   "cell_type": "code",
   "execution_count": 209,
   "id": "225abc12",
   "metadata": {},
   "outputs": [
    {
     "data": {
      "text/html": [
       "<div>\n",
       "<style scoped>\n",
       "    .dataframe tbody tr th:only-of-type {\n",
       "        vertical-align: middle;\n",
       "    }\n",
       "\n",
       "    .dataframe tbody tr th {\n",
       "        vertical-align: top;\n",
       "    }\n",
       "\n",
       "    .dataframe thead th {\n",
       "        text-align: right;\n",
       "    }\n",
       "</style>\n",
       "<table border=\"1\" class=\"dataframe\">\n",
       "  <thead>\n",
       "    <tr style=\"text-align: right;\">\n",
       "      <th></th>\n",
       "      <th>Coder</th>\n",
       "      <th>firstName</th>\n",
       "      <th>genderize</th>\n",
       "      <th>authorID</th>\n",
       "      <th>doi</th>\n",
       "      <th>gender_prediction</th>\n",
       "      <th>race_prediction</th>\n",
       "      <th>gender</th>\n",
       "      <th>race</th>\n",
       "    </tr>\n",
       "  </thead>\n",
       "  <tbody>\n",
       "    <tr>\n",
       "      <th>0</th>\n",
       "      <td>Haley</td>\n",
       "      <td>Ben</td>\n",
       "      <td>male</td>\n",
       "      <td>10.1093/jcmc/zmab024+1.0</td>\n",
       "      <td>10.1093/jcmc/zmab024</td>\n",
       "      <td>M</td>\n",
       "      <td>1.0</td>\n",
       "      <td>M</td>\n",
       "      <td>Black</td>\n",
       "    </tr>\n",
       "    <tr>\n",
       "      <th>1</th>\n",
       "      <td>Haley</td>\n",
       "      <td>Xuanjun</td>\n",
       "      <td>male</td>\n",
       "      <td>10.1093/joc/jqab044+4.0</td>\n",
       "      <td>10.1093/joc/jqab044</td>\n",
       "      <td>M</td>\n",
       "      <td>2.0</td>\n",
       "      <td>M</td>\n",
       "      <td>Asian</td>\n",
       "    </tr>\n",
       "    <tr>\n",
       "      <th>2</th>\n",
       "      <td>Haley</td>\n",
       "      <td>Jonathan</td>\n",
       "      <td>male</td>\n",
       "      <td>10.1093/hcr/hqab020+1.0</td>\n",
       "      <td>10.1093/hcr/hqab020</td>\n",
       "      <td>M</td>\n",
       "      <td>0.0</td>\n",
       "      <td>M</td>\n",
       "      <td>White</td>\n",
       "    </tr>\n",
       "    <tr>\n",
       "      <th>3</th>\n",
       "      <td>Haley</td>\n",
       "      <td>Anne</td>\n",
       "      <td>female</td>\n",
       "      <td>10.1093/hcr/hqac004+1.0</td>\n",
       "      <td>10.1093/hcr/hqac004</td>\n",
       "      <td>F</td>\n",
       "      <td>0.0</td>\n",
       "      <td>F</td>\n",
       "      <td>White</td>\n",
       "    </tr>\n",
       "    <tr>\n",
       "      <th>4</th>\n",
       "      <td>Haley</td>\n",
       "      <td>Sophie</td>\n",
       "      <td>female</td>\n",
       "      <td>10.1093/jcmc/zmab019+5.0</td>\n",
       "      <td>10.1093/jcmc/zmab019</td>\n",
       "      <td>F</td>\n",
       "      <td>0.0</td>\n",
       "      <td>F</td>\n",
       "      <td>White</td>\n",
       "    </tr>\n",
       "  </tbody>\n",
       "</table>\n",
       "</div>"
      ],
      "text/plain": [
       "   Coder firstName genderize                  authorID                   doi  \\\n",
       "0  Haley       Ben      male  10.1093/jcmc/zmab024+1.0  10.1093/jcmc/zmab024   \n",
       "1  Haley   Xuanjun      male   10.1093/joc/jqab044+4.0   10.1093/joc/jqab044   \n",
       "2  Haley  Jonathan      male   10.1093/hcr/hqab020+1.0   10.1093/hcr/hqab020   \n",
       "3  Haley      Anne    female   10.1093/hcr/hqac004+1.0   10.1093/hcr/hqac004   \n",
       "4  Haley    Sophie    female  10.1093/jcmc/zmab019+5.0  10.1093/jcmc/zmab019   \n",
       "\n",
       "  gender_prediction race_prediction gender   race  \n",
       "0                 M             1.0      M  Black  \n",
       "1                 M             2.0      M  Asian  \n",
       "2                 M             0.0      M  White  \n",
       "3                 F             0.0      F  White  \n",
       "4                 F             0.0      F  White  "
      ]
     },
     "execution_count": 209,
     "metadata": {},
     "output_type": "execute_result"
    }
   ],
   "source": [
    "df.head()"
   ]
  },
  {
   "cell_type": "code",
   "execution_count": 210,
   "id": "f133838d",
   "metadata": {},
   "outputs": [
    {
     "data": {
      "text/plain": [
       "<AxesSubplot:xlabel='race', ylabel='count'>"
      ]
     },
     "execution_count": 210,
     "metadata": {},
     "output_type": "execute_result"
    },
    {
     "data": {
      "image/png": "[encoded data removed]",
      "text/plain": [
       "<Figure size 432x288 with 1 Axes>"
      ]
     },
     "metadata": {
      "needs_background": "light"
     },
     "output_type": "display_data"
    }
   ],
   "source": [
    "sns.countplot(x = 'race', data = df)"
   ]
  },
  {
   "cell_type": "code",
   "execution_count": 211,
   "id": "5a2b6b38",
   "metadata": {},
   "outputs": [
    {
     "data": {
      "text/plain": [
       "{'F', 'M', 'N', nan}"
      ]
     },
     "execution_count": 211,
     "metadata": {},
     "output_type": "execute_result"
    }
   ],
   "source": [
    "set(df.gender)"
   ]
  },
  {
   "cell_type": "code",
   "execution_count": 212,
   "id": "cb040a71",
   "metadata": {},
   "outputs": [
    {
     "data": {
      "text/plain": [
       "<AxesSubplot:xlabel='gender', ylabel='count'>"
      ]
     },
     "execution_count": 212,
     "metadata": {},
     "output_type": "execute_result"
    },
    {
     "data": {
      "image/png": "[encoded data removed]",
      "text/plain": [
       "<Figure size 432x288 with 1 Axes>"
      ]
     },
     "metadata": {
      "needs_background": "light"
     },
     "output_type": "display_data"
    }
   ],
   "source": [
    "sns.countplot(x = 'gender', data = df)"
   ]
  },
  {
   "cell_type": "code",
   "execution_count": 214,
   "id": "5f392cd1",
   "metadata": {},
   "outputs": [],
   "source": [
    "df['race_plus_gender'] = df['race'] + df['gender']"
   ]
  },
  {
   "cell_type": "code",
   "execution_count": 215,
   "id": "2d07ce68",
   "metadata": {},
   "outputs": [
    {
     "data": {
      "image/png": "[encoded data removed]",
      "text/plain": [
       "<Figure size 1080x432 with 1 Axes>"
      ]
     },
     "metadata": {
      "needs_background": "light"
     },
     "output_type": "display_data"
    }
   ],
   "source": [
    "plt.figure(figsize=(15,6))\n",
    "ax = sns.countplot(x = 'race_plus_gender', data = df)\n",
    "# plt.xticks(rotation=45)\n",
    "ax.tick_params(axis='x', rotation=40)"
   ]
  },
  {
   "cell_type": "code",
   "execution_count": 216,
   "id": "2ea7580c",
   "metadata": {},
   "outputs": [
    {
     "data": {
      "text/plain": [
       "(7536, 10)"
      ]
     },
     "execution_count": 216,
     "metadata": {},
     "output_type": "execute_result"
    }
   ],
   "source": [
    "df.shape"
   ]
  },
  {
   "cell_type": "markdown",
   "id": "5bf7e19e",
   "metadata": {},
   "source": [
    "## Checking affiliation"
   ]
  },
  {
   "cell_type": "code",
   "execution_count": 111,
   "id": "70df9dd1",
   "metadata": {},
   "outputs": [
    {
     "data": {
      "text/html": [
       "<div>\n",
       "<style scoped>\n",
       "    .dataframe tbody tr th:only-of-type {\n",
       "        vertical-align: middle;\n",
       "    }\n",
       "\n",
       "    .dataframe tbody tr th {\n",
       "        vertical-align: top;\n",
       "    }\n",
       "\n",
       "    .dataframe thead th {\n",
       "        text-align: right;\n",
       "    }\n",
       "</style>\n",
       "<table border=\"1\" class=\"dataframe\">\n",
       "  <thead>\n",
       "    <tr style=\"text-align: right;\">\n",
       "      <th></th>\n",
       "      <th>authorID</th>\n",
       "      <th>new_country_code</th>\n",
       "      <th>new_afftype</th>\n",
       "    </tr>\n",
       "  </thead>\n",
       "  <tbody>\n",
       "    <tr>\n",
       "      <th>0</th>\n",
       "      <td>10.1093/jcmc/zmab019+4.0</td>\n",
       "      <td>AT</td>\n",
       "      <td>Education</td>\n",
       "    </tr>\n",
       "    <tr>\n",
       "      <th>1</th>\n",
       "      <td>10.1093/jcmc/zmab019+5.0</td>\n",
       "      <td>AT</td>\n",
       "      <td>Education</td>\n",
       "    </tr>\n",
       "    <tr>\n",
       "      <th>2</th>\n",
       "      <td>10.1093/joc/jqab052+5.0</td>\n",
       "      <td>US</td>\n",
       "      <td>Education</td>\n",
       "    </tr>\n",
       "    <tr>\n",
       "      <th>3</th>\n",
       "      <td>10.1093/ccc/tcac007+1.0</td>\n",
       "      <td>CN</td>\n",
       "      <td>Education</td>\n",
       "    </tr>\n",
       "    <tr>\n",
       "      <th>4</th>\n",
       "      <td>10.1093/joc/jqac012+4.0</td>\n",
       "      <td>US</td>\n",
       "      <td>Education</td>\n",
       "    </tr>\n",
       "    <tr>\n",
       "      <th>...</th>\n",
       "      <td>...</td>\n",
       "      <td>...</td>\n",
       "      <td>...</td>\n",
       "    </tr>\n",
       "    <tr>\n",
       "      <th>4429</th>\n",
       "      <td>10.1111/j.1083-6101.2010.01508.x+7.0</td>\n",
       "      <td>US</td>\n",
       "      <td>Education</td>\n",
       "    </tr>\n",
       "    <tr>\n",
       "      <th>4430</th>\n",
       "      <td>10.1111/j.1753-9137.2010.01073.x+2.0</td>\n",
       "      <td>MX</td>\n",
       "      <td>Education</td>\n",
       "    </tr>\n",
       "    <tr>\n",
       "      <th>4431</th>\n",
       "      <td>10.1111/j.1083-6101.2010.01532.x+1.0</td>\n",
       "      <td>US</td>\n",
       "      <td>Education</td>\n",
       "    </tr>\n",
       "    <tr>\n",
       "      <th>4432</th>\n",
       "      <td>10.1111/j.1753-9137.2010.01079.x+1.0</td>\n",
       "      <td>US</td>\n",
       "      <td>Education</td>\n",
       "    </tr>\n",
       "    <tr>\n",
       "      <th>4433</th>\n",
       "      <td>10.1111/j.1083-6101.2009.01509.x+3.0</td>\n",
       "      <td>CH</td>\n",
       "      <td>Education</td>\n",
       "    </tr>\n",
       "  </tbody>\n",
       "</table>\n",
       "<p>4434 rows × 3 columns</p>\n",
       "</div>"
      ],
      "text/plain": [
       "                                  authorID new_country_code new_afftype\n",
       "0                 10.1093/jcmc/zmab019+4.0               AT   Education\n",
       "1                 10.1093/jcmc/zmab019+5.0               AT   Education\n",
       "2                  10.1093/joc/jqab052+5.0               US   Education\n",
       "3                  10.1093/ccc/tcac007+1.0               CN   Education\n",
       "4                  10.1093/joc/jqac012+4.0               US   Education\n",
       "...                                    ...              ...         ...\n",
       "4429  10.1111/j.1083-6101.2010.01508.x+7.0               US   Education\n",
       "4430  10.1111/j.1753-9137.2010.01073.x+2.0               MX   Education\n",
       "4431  10.1111/j.1083-6101.2010.01532.x+1.0               US   Education\n",
       "4432  10.1111/j.1753-9137.2010.01079.x+1.0               US   Education\n",
       "4433  10.1111/j.1083-6101.2009.01509.x+3.0               CH   Education\n",
       "\n",
       "[4434 rows x 3 columns]"
      ]
     },
     "execution_count": 111,
     "metadata": {},
     "output_type": "execute_result"
    }
   ],
   "source": [
    "aff_df = pd.read_csv('aff_df.csv')\n",
    "aff_df = aff_df[['authorID', 'new_country_code', 'new_afftype']]\n",
    "aff_df"
   ]
  },
  {
   "cell_type": "code",
   "execution_count": 114,
   "id": "06de4b15",
   "metadata": {},
   "outputs": [
    {
     "data": {
      "text/html": [
       "<div>\n",
       "<style scoped>\n",
       "    .dataframe tbody tr th:only-of-type {\n",
       "        vertical-align: middle;\n",
       "    }\n",
       "\n",
       "    .dataframe tbody tr th {\n",
       "        vertical-align: top;\n",
       "    }\n",
       "\n",
       "    .dataframe thead th {\n",
       "        text-align: right;\n",
       "    }\n",
       "</style>\n",
       "<table border=\"1\" class=\"dataframe\">\n",
       "  <thead>\n",
       "    <tr style=\"text-align: right;\">\n",
       "      <th></th>\n",
       "      <th>authorID</th>\n",
       "      <th>new_country_code</th>\n",
       "      <th>new_afftype</th>\n",
       "      <th>gender_prediction</th>\n",
       "      <th>race_prediction</th>\n",
       "      <th>race</th>\n",
       "      <th>race_plus_gender</th>\n",
       "    </tr>\n",
       "  </thead>\n",
       "  <tbody>\n",
       "    <tr>\n",
       "      <th>0</th>\n",
       "      <td>10.1093/jcmc/zmab019+4.0</td>\n",
       "      <td>AT</td>\n",
       "      <td>Education</td>\n",
       "      <td>F</td>\n",
       "      <td>0.0</td>\n",
       "      <td>White</td>\n",
       "      <td>WhiteF</td>\n",
       "    </tr>\n",
       "    <tr>\n",
       "      <th>1</th>\n",
       "      <td>10.1093/jcmc/zmab019+5.0</td>\n",
       "      <td>AT</td>\n",
       "      <td>Education</td>\n",
       "      <td>F</td>\n",
       "      <td>0.0</td>\n",
       "      <td>White</td>\n",
       "      <td>WhiteF</td>\n",
       "    </tr>\n",
       "    <tr>\n",
       "      <th>2</th>\n",
       "      <td>10.1093/joc/jqab052+5.0</td>\n",
       "      <td>US</td>\n",
       "      <td>Education</td>\n",
       "      <td>F</td>\n",
       "      <td>2.0</td>\n",
       "      <td>Asian</td>\n",
       "      <td>AsianF</td>\n",
       "    </tr>\n",
       "    <tr>\n",
       "      <th>3</th>\n",
       "      <td>10.1093/ccc/tcac007+1.0</td>\n",
       "      <td>CN</td>\n",
       "      <td>Education</td>\n",
       "      <td>F</td>\n",
       "      <td>0.0</td>\n",
       "      <td>White</td>\n",
       "      <td>WhiteF</td>\n",
       "    </tr>\n",
       "    <tr>\n",
       "      <th>4</th>\n",
       "      <td>10.1093/joc/jqac012+4.0</td>\n",
       "      <td>US</td>\n",
       "      <td>Education</td>\n",
       "      <td>M</td>\n",
       "      <td>0.0</td>\n",
       "      <td>White</td>\n",
       "      <td>WhiteM</td>\n",
       "    </tr>\n",
       "    <tr>\n",
       "      <th>...</th>\n",
       "      <td>...</td>\n",
       "      <td>...</td>\n",
       "      <td>...</td>\n",
       "      <td>...</td>\n",
       "      <td>...</td>\n",
       "      <td>...</td>\n",
       "      <td>...</td>\n",
       "    </tr>\n",
       "    <tr>\n",
       "      <th>4429</th>\n",
       "      <td>10.1111/j.1083-6101.2010.01508.x+7.0</td>\n",
       "      <td>US</td>\n",
       "      <td>Education</td>\n",
       "      <td>F</td>\n",
       "      <td>0.0</td>\n",
       "      <td>White</td>\n",
       "      <td>WhiteF</td>\n",
       "    </tr>\n",
       "    <tr>\n",
       "      <th>4430</th>\n",
       "      <td>10.1111/j.1753-9137.2010.01073.x+2.0</td>\n",
       "      <td>MX</td>\n",
       "      <td>Education</td>\n",
       "      <td>M</td>\n",
       "      <td>3.0</td>\n",
       "      <td>Hispanic</td>\n",
       "      <td>HispanicM</td>\n",
       "    </tr>\n",
       "    <tr>\n",
       "      <th>4431</th>\n",
       "      <td>10.1111/j.1083-6101.2010.01532.x+1.0</td>\n",
       "      <td>US</td>\n",
       "      <td>Education</td>\n",
       "      <td>F</td>\n",
       "      <td>3.0</td>\n",
       "      <td>Hispanic</td>\n",
       "      <td>HispanicF</td>\n",
       "    </tr>\n",
       "    <tr>\n",
       "      <th>4432</th>\n",
       "      <td>10.1111/j.1753-9137.2010.01079.x+1.0</td>\n",
       "      <td>US</td>\n",
       "      <td>Education</td>\n",
       "      <td>F</td>\n",
       "      <td>2.0</td>\n",
       "      <td>Asian</td>\n",
       "      <td>AsianF</td>\n",
       "    </tr>\n",
       "    <tr>\n",
       "      <th>4433</th>\n",
       "      <td>10.1111/j.1083-6101.2009.01509.x+3.0</td>\n",
       "      <td>CH</td>\n",
       "      <td>Education</td>\n",
       "      <td>F</td>\n",
       "      <td>0.0</td>\n",
       "      <td>White</td>\n",
       "      <td>WhiteF</td>\n",
       "    </tr>\n",
       "  </tbody>\n",
       "</table>\n",
       "<p>4434 rows × 7 columns</p>\n",
       "</div>"
      ],
      "text/plain": [
       "                                  authorID new_country_code new_afftype  \\\n",
       "0                 10.1093/jcmc/zmab019+4.0               AT   Education   \n",
       "1                 10.1093/jcmc/zmab019+5.0               AT   Education   \n",
       "2                  10.1093/joc/jqab052+5.0               US   Education   \n",
       "3                  10.1093/ccc/tcac007+1.0               CN   Education   \n",
       "4                  10.1093/joc/jqac012+4.0               US   Education   \n",
       "...                                    ...              ...         ...   \n",
       "4429  10.1111/j.1083-6101.2010.01508.x+7.0               US   Education   \n",
       "4430  10.1111/j.1753-9137.2010.01073.x+2.0               MX   Education   \n",
       "4431  10.1111/j.1083-6101.2010.01532.x+1.0               US   Education   \n",
       "4432  10.1111/j.1753-9137.2010.01079.x+1.0               US   Education   \n",
       "4433  10.1111/j.1083-6101.2009.01509.x+3.0               CH   Education   \n",
       "\n",
       "     gender_prediction  race_prediction      race race_plus_gender  \n",
       "0                    F              0.0     White           WhiteF  \n",
       "1                    F              0.0     White           WhiteF  \n",
       "2                    F              2.0     Asian           AsianF  \n",
       "3                    F              0.0     White           WhiteF  \n",
       "4                    M              0.0     White           WhiteM  \n",
       "...                ...              ...       ...              ...  \n",
       "4429                 F              0.0     White           WhiteF  \n",
       "4430                 M              3.0  Hispanic        HispanicM  \n",
       "4431                 F              3.0  Hispanic        HispanicF  \n",
       "4432                 F              2.0     Asian           AsianF  \n",
       "4433                 F              0.0     White           WhiteF  \n",
       "\n",
       "[4434 rows x 7 columns]"
      ]
     },
     "execution_count": 114,
     "metadata": {},
     "output_type": "execute_result"
    }
   ],
   "source": [
    "pd.merge(aff_df, df, on = 'authorID')"
   ]
  },
  {
   "cell_type": "code",
   "execution_count": 116,
   "id": "de0b08e8",
   "metadata": {},
   "outputs": [
    {
     "data": {
      "text/plain": [
       "True"
      ]
     },
     "execution_count": 116,
     "metadata": {},
     "output_type": "execute_result"
    }
   ],
   "source": [
    "set(aff_df.authorID) == set(df.authorID)"
   ]
  }
 ],
 "metadata": {
  "kernelspec": {
   "display_name": "Python 3 (ipykernel)",
   "language": "python",
   "name": "python3"
  },
  "language_info": {
   "codemirror_mode": {
    "name": "ipython",
    "version": 3
   },
   "file_extension": ".py",
   "mimetype": "text/x-python",
   "name": "python",
   "nbconvert_exporter": "python",
   "pygments_lexer": "ipython3",
   "version": "3.8.13"
  }
 },
 "nbformat": 4,
 "nbformat_minor": 5
}
